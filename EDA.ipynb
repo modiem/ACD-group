{
 "cells": [
  {
   "cell_type": "markdown",
   "id": "787901d2",
   "metadata": {},
   "source": [
    "# EDA"
   ]
  },
  {
   "cell_type": "code",
   "execution_count": 1,
   "id": "5d264af9",
   "metadata": {},
   "outputs": [],
   "source": [
    "import numpy as np\n",
    "import pandas as pd\n",
    "import seaborn as sns"
   ]
  },
  {
   "cell_type": "code",
   "execution_count": 2,
   "id": "e604221f",
   "metadata": {
    "scrolled": false
   },
   "outputs": [
    {
     "data": {
      "text/html": [
       "<div>\n",
       "<style scoped>\n",
       "    .dataframe tbody tr th:only-of-type {\n",
       "        vertical-align: middle;\n",
       "    }\n",
       "\n",
       "    .dataframe tbody tr th {\n",
       "        vertical-align: top;\n",
       "    }\n",
       "\n",
       "    .dataframe thead th {\n",
       "        text-align: right;\n",
       "    }\n",
       "</style>\n",
       "<table border=\"1\" class=\"dataframe\">\n",
       "  <thead>\n",
       "    <tr style=\"text-align: right;\">\n",
       "      <th></th>\n",
       "      <th>session_id_hash</th>\n",
       "      <th>event_type</th>\n",
       "      <th>product_action</th>\n",
       "      <th>product_sku_hash</th>\n",
       "      <th>server_timestamp_epoch_ms</th>\n",
       "      <th>hashed_url</th>\n",
       "    </tr>\n",
       "  </thead>\n",
       "  <tbody>\n",
       "    <tr>\n",
       "      <th>0</th>\n",
       "      <td>20c458b802f6ea9374783bfc528b19421be977a6769785...</td>\n",
       "      <td>event_product</td>\n",
       "      <td>detail</td>\n",
       "      <td>d5157f8bc52965390fa21ad5842a8502bc3eb8b0930f3f...</td>\n",
       "      <td>1550885210881</td>\n",
       "      <td>7e4527ac6a32deed4f4f06bb7c49b907b7ca371e59d57d...</td>\n",
       "    </tr>\n",
       "    <tr>\n",
       "      <th>1</th>\n",
       "      <td>20c458b802f6ea9374783bfc528b19421be977a6769785...</td>\n",
       "      <td>event_product</td>\n",
       "      <td>detail</td>\n",
       "      <td>61ef3869355b78e11011f39fc7ac8f8dfb209b3442a9d5...</td>\n",
       "      <td>1550885213307</td>\n",
       "      <td>4ed279f4f0deab6dfc80f4f7bf49d527fd894fa478a9ce...</td>\n",
       "    </tr>\n",
       "    <tr>\n",
       "      <th>2</th>\n",
       "      <td>20c458b802f6ea9374783bfc528b19421be977a6769785...</td>\n",
       "      <td>pageview</td>\n",
       "      <td>NaN</td>\n",
       "      <td>NaN</td>\n",
       "      <td>1550885213307</td>\n",
       "      <td>4ed279f4f0deab6dfc80f4f7bf49d527fd894fa478a9ce...</td>\n",
       "    </tr>\n",
       "    <tr>\n",
       "      <th>3</th>\n",
       "      <td>20c458b802f6ea9374783bfc528b19421be977a6769785...</td>\n",
       "      <td>event_product</td>\n",
       "      <td>detail</td>\n",
       "      <td>d5157f8bc52965390fa21ad5842a8502bc3eb8b0930f3f...</td>\n",
       "      <td>1550885215484</td>\n",
       "      <td>7e4527ac6a32deed4f4f06bb7c49b907b7ca371e59d57d...</td>\n",
       "    </tr>\n",
       "    <tr>\n",
       "      <th>4</th>\n",
       "      <td>20c458b802f6ea9374783bfc528b19421be977a6769785...</td>\n",
       "      <td>pageview</td>\n",
       "      <td>NaN</td>\n",
       "      <td>NaN</td>\n",
       "      <td>1550885215484</td>\n",
       "      <td>7e4527ac6a32deed4f4f06bb7c49b907b7ca371e59d57d...</td>\n",
       "    </tr>\n",
       "  </tbody>\n",
       "</table>\n",
       "</div>"
      ],
      "text/plain": [
       "                                     session_id_hash     event_type  \\\n",
       "0  20c458b802f6ea9374783bfc528b19421be977a6769785...  event_product   \n",
       "1  20c458b802f6ea9374783bfc528b19421be977a6769785...  event_product   \n",
       "2  20c458b802f6ea9374783bfc528b19421be977a6769785...       pageview   \n",
       "3  20c458b802f6ea9374783bfc528b19421be977a6769785...  event_product   \n",
       "4  20c458b802f6ea9374783bfc528b19421be977a6769785...       pageview   \n",
       "\n",
       "  product_action                                   product_sku_hash  \\\n",
       "0         detail  d5157f8bc52965390fa21ad5842a8502bc3eb8b0930f3f...   \n",
       "1         detail  61ef3869355b78e11011f39fc7ac8f8dfb209b3442a9d5...   \n",
       "2            NaN                                                NaN   \n",
       "3         detail  d5157f8bc52965390fa21ad5842a8502bc3eb8b0930f3f...   \n",
       "4            NaN                                                NaN   \n",
       "\n",
       "   server_timestamp_epoch_ms  \\\n",
       "0              1550885210881   \n",
       "1              1550885213307   \n",
       "2              1550885213307   \n",
       "3              1550885215484   \n",
       "4              1550885215484   \n",
       "\n",
       "                                          hashed_url  \n",
       "0  7e4527ac6a32deed4f4f06bb7c49b907b7ca371e59d57d...  \n",
       "1  4ed279f4f0deab6dfc80f4f7bf49d527fd894fa478a9ce...  \n",
       "2  4ed279f4f0deab6dfc80f4f7bf49d527fd894fa478a9ce...  \n",
       "3  7e4527ac6a32deed4f4f06bb7c49b907b7ca371e59d57d...  \n",
       "4  7e4527ac6a32deed4f4f06bb7c49b907b7ca371e59d57d...  "
      ]
     },
     "execution_count": 2,
     "metadata": {},
     "output_type": "execute_result"
    }
   ],
   "source": [
    "df = pd.read_csv(\"training_data.csv\")\n",
    "df.head()"
   ]
  },
  {
   "cell_type": "code",
   "execution_count": 3,
   "id": "06008098",
   "metadata": {},
   "outputs": [],
   "source": [
    "log = {}\n",
    "log[\"original length\"] = df.shape[0]"
   ]
  },
  {
   "cell_type": "code",
   "execution_count": 5,
   "id": "5307b7fd",
   "metadata": {},
   "outputs": [
    {
     "name": "stdout",
     "output_type": "stream",
     "text": [
      "event types: {'event_product', 'pageview'}\n",
      "product actions: {nan, 'add', 'remove', 'detail', 'purchase'}\n"
     ]
    }
   ],
   "source": [
    "print('event types: {}'.format(set(df['event_type'])))\n",
    "print('product actions: {}'.format(set(df['product_action'])))"
   ]
  },
  {
   "cell_type": "markdown",
   "id": "efb8b38a",
   "metadata": {
    "heading_collapsed": true
   },
   "source": [
    "## Pre-processing\n",
    "\n",
    "Filtered and modified the data with following conditions:\n",
    "1. with 'add' in the session\n",
    "2. cut sessions after the first 'add'\n",
    "3. take the 'purchase' out of the session\n",
    "2. keep the session with the length between 5 and 155\n"
   ]
  },
  {
   "cell_type": "markdown",
   "id": "0497a520",
   "metadata": {
    "heading_collapsed": true,
    "hidden": true
   },
   "source": [
    "### Sessionization"
   ]
  },
  {
   "cell_type": "code",
   "execution_count": 6,
   "id": "08a869c2",
   "metadata": {
    "hidden": true,
    "scrolled": true
   },
   "outputs": [
    {
     "data": {
      "text/html": [
       "<div>\n",
       "<style scoped>\n",
       "    .dataframe tbody tr th:only-of-type {\n",
       "        vertical-align: middle;\n",
       "    }\n",
       "\n",
       "    .dataframe tbody tr th {\n",
       "        vertical-align: top;\n",
       "    }\n",
       "\n",
       "    .dataframe thead th {\n",
       "        text-align: right;\n",
       "    }\n",
       "</style>\n",
       "<table border=\"1\" class=\"dataframe\">\n",
       "  <thead>\n",
       "    <tr style=\"text-align: right;\">\n",
       "      <th></th>\n",
       "      <th>session_id_hash</th>\n",
       "      <th>product_action</th>\n",
       "    </tr>\n",
       "  </thead>\n",
       "  <tbody>\n",
       "    <tr>\n",
       "      <th>0</th>\n",
       "      <td>00000114e1075962f022114fcfc17f2d874e694ac5d201...</td>\n",
       "      <td>[view, detail, add, view, view, view, view, vi...</td>\n",
       "    </tr>\n",
       "    <tr>\n",
       "      <th>1</th>\n",
       "      <td>000009f36a40de1d557afc083dbb3fc03eef2473337bad...</td>\n",
       "      <td>[view, view]</td>\n",
       "    </tr>\n",
       "    <tr>\n",
       "      <th>2</th>\n",
       "      <td>00000e812c3076d18245710a31b348d3f23314b7d0dc90...</td>\n",
       "      <td>[view]</td>\n",
       "    </tr>\n",
       "    <tr>\n",
       "      <th>3</th>\n",
       "      <td>00001355930ff05e66ab30bccff221c33eba90e1517397...</td>\n",
       "      <td>[view, detail]</td>\n",
       "    </tr>\n",
       "    <tr>\n",
       "      <th>4</th>\n",
       "      <td>0000162d1dad0beb867c191ab2c8c7c06086cc57d9ebe2...</td>\n",
       "      <td>[view, view, view, view, detail, view, detail,...</td>\n",
       "    </tr>\n",
       "  </tbody>\n",
       "</table>\n",
       "</div>"
      ],
      "text/plain": [
       "                                     session_id_hash  \\\n",
       "0  00000114e1075962f022114fcfc17f2d874e694ac5d201...   \n",
       "1  000009f36a40de1d557afc083dbb3fc03eef2473337bad...   \n",
       "2  00000e812c3076d18245710a31b348d3f23314b7d0dc90...   \n",
       "3  00001355930ff05e66ab30bccff221c33eba90e1517397...   \n",
       "4  0000162d1dad0beb867c191ab2c8c7c06086cc57d9ebe2...   \n",
       "\n",
       "                                      product_action  \n",
       "0  [view, detail, add, view, view, view, view, vi...  \n",
       "1                                       [view, view]  \n",
       "2                                             [view]  \n",
       "3                                     [view, detail]  \n",
       "4  [view, view, view, view, detail, view, detail,...  "
      ]
     },
     "execution_count": 6,
     "metadata": {},
     "output_type": "execute_result"
    }
   ],
   "source": [
    "# derive sessions from action by action dataset\n",
    "# merge all the actions by session_id\n",
    "\n",
    "df['product_action'] = df['product_action'].fillna('view')\n",
    "df = df.groupby('session_id_hash')['product_action'].agg(list).reset_index()\n",
    "df.head()"
   ]
  },
  {
   "cell_type": "code",
   "execution_count": 17,
   "id": "c4fa81e7",
   "metadata": {
    "hidden": true
   },
   "outputs": [
    {
     "name": "stdout",
     "output_type": "stream",
     "text": [
      "2.35 s ± 99.2 ms per loop (mean ± std. dev. of 7 runs, 1 loop each)\n"
     ]
    }
   ],
   "source": [
    "###################################\n",
    "### Only keep sessions with 'add'\n",
    "###################################\n",
    "# %%timeit\n",
    "# df.drop(df[df.product_action.map(lambda x: 'add' not in x)].index)\n",
    "\n",
    "df = df[df.product_action.map(set(['add']).issubset)]\n",
    "\n",
    "log[\"contain add\"] = df.shape[0]\n",
    "\n",
    "######################################################################\n",
    "### add class label to each session (BUY V. NO-BUY)  #################################\n",
    "######################################################################\n",
    "df['purchase'] = np.where(df.product_action.map(set(['purchase']).issubset), 1, 0)\n",
    "df.head()"
   ]
  },
  {
   "cell_type": "code",
   "execution_count": 15,
   "id": "aaeb105d",
   "metadata": {
    "hidden": true,
    "scrolled": true
   },
   "outputs": [
    {
     "data": {
      "text/html": [
       "<div>\n",
       "<style scoped>\n",
       "    .dataframe tbody tr th:only-of-type {\n",
       "        vertical-align: middle;\n",
       "    }\n",
       "\n",
       "    .dataframe tbody tr th {\n",
       "        vertical-align: top;\n",
       "    }\n",
       "\n",
       "    .dataframe thead th {\n",
       "        text-align: right;\n",
       "    }\n",
       "</style>\n",
       "<table border=\"1\" class=\"dataframe\">\n",
       "  <thead>\n",
       "    <tr style=\"text-align: right;\">\n",
       "      <th></th>\n",
       "      <th>session_id_hash</th>\n",
       "      <th>product_action</th>\n",
       "      <th>purchase</th>\n",
       "    </tr>\n",
       "  </thead>\n",
       "  <tbody>\n",
       "    <tr>\n",
       "      <th>0</th>\n",
       "      <td>00000114e1075962f022114fcfc17f2d874e694ac5d201...</td>\n",
       "      <td>[view, view, view, view, view, view, view, det...</td>\n",
       "      <td>0</td>\n",
       "    </tr>\n",
       "    <tr>\n",
       "      <th>37</th>\n",
       "      <td>0000913afa22ba9c31efb992bcf6388b0bbfe28056bef3...</td>\n",
       "      <td>[view, detail, view, view, view, detail, view,...</td>\n",
       "      <td>0</td>\n",
       "    </tr>\n",
       "    <tr>\n",
       "      <th>64</th>\n",
       "      <td>00010d84aca1294479304044207fd268f63228844779c6...</td>\n",
       "      <td>[view, view, view, view, view, view, view, vie...</td>\n",
       "      <td>0</td>\n",
       "    </tr>\n",
       "    <tr>\n",
       "      <th>84</th>\n",
       "      <td>0001368d732951035a7ef7ef42b345a5c50b7d66966749...</td>\n",
       "      <td>[view, view, detail, add, view, view, view, vi...</td>\n",
       "      <td>0</td>\n",
       "    </tr>\n",
       "    <tr>\n",
       "      <th>119</th>\n",
       "      <td>0001c180fb742f96ff388ba8f67a568e6fa66aed30d0d2...</td>\n",
       "      <td>[remove, view, detail, view, view, view, remov...</td>\n",
       "      <td>1</td>\n",
       "    </tr>\n",
       "  </tbody>\n",
       "</table>\n",
       "</div>"
      ],
      "text/plain": [
       "                                       session_id_hash  \\\n",
       "0    00000114e1075962f022114fcfc17f2d874e694ac5d201...   \n",
       "37   0000913afa22ba9c31efb992bcf6388b0bbfe28056bef3...   \n",
       "64   00010d84aca1294479304044207fd268f63228844779c6...   \n",
       "84   0001368d732951035a7ef7ef42b345a5c50b7d66966749...   \n",
       "119  0001c180fb742f96ff388ba8f67a568e6fa66aed30d0d2...   \n",
       "\n",
       "                                        product_action  purchase  \n",
       "0    [view, view, view, view, view, view, view, det...         0  \n",
       "37   [view, detail, view, view, view, detail, view,...         0  \n",
       "64   [view, view, view, view, view, view, view, vie...         0  \n",
       "84   [view, view, detail, add, view, view, view, vi...         0  \n",
       "119  [remove, view, detail, view, view, view, remov...         1  "
      ]
     },
     "execution_count": 15,
     "metadata": {},
     "output_type": "execute_result"
    }
   ],
   "source": [
    "###################################\n",
    "### Cut actions after the first add\n",
    "###################################\n",
    "df.loc[:,'product_action'] = df['product_action'].map(lambda x: x[x.index('add')+1:])\n",
    "df.head()                             \n",
    "\n",
    "#######################################################################\n",
    "### Cut actions before purchase if there is one\n",
    "### keep the full sesssion if there is not\n",
    "######################################################################\n",
    "df['product_action'] = df['product_action'].map(lambda x: x[0:x.index('purchase')] if 'purchase' in x else x)\n",
    "\n",
    "######################################################################\n",
    "### Filtered out outliers which > 155 or < 5.    #####################\n",
    "######################################################################\n",
    "df[\"len\"] = df[\"product_action\"].map(len)\n",
    "\n",
    "# removing very short and very long sessions\n",
    "df.drop(df[df.len < 5].index, inplace=True)\n",
    "df.drop(df[df.len > 155].index, inplace=True)\n",
    "\n",
    "log[\"remove outliers\"]=df.shape[0]\n"
   ]
  },
  {
   "cell_type": "markdown",
   "id": "2d2d2a16",
   "metadata": {
    "heading_collapsed": true,
    "hidden": true
   },
   "source": [
    "### Symbolization"
   ]
  },
  {
   "cell_type": "code",
   "execution_count": 26,
   "id": "60ac4d6b",
   "metadata": {
    "hidden": true
   },
   "outputs": [
    {
     "name": "stdout",
     "output_type": "stream",
     "text": [
      "{'view': 1, 'detail': 2, 'remove': 3, 'add': 4}\n"
     ]
    }
   ],
   "source": [
    "from collections import Counter\n",
    "\n",
    "sessions = df['product_action'].to_list()\n",
    "labels = df['purchase'].to_list()\n",
    "\n",
    "counts = Counter([item for session in sessions for item in session])\n",
    "# I'm not going to use it, but I'm saving the 0 for padding sessions when symbolising\n",
    "symbol2idx = {symbol: idx for idx, symbol in enumerate(sorted(counts, key=counts.get, reverse=True), 1)}\n",
    "\n",
    "\n",
    "df[\"session\"]=df[\"product_action\"].map(lambda session: [symbol2idx[s] for s in session])"
   ]
  },
  {
   "cell_type": "code",
   "execution_count": 31,
   "id": "cc5763f8",
   "metadata": {
    "hidden": true
   },
   "outputs": [
    {
     "data": {
      "text/html": [
       "<div>\n",
       "<style scoped>\n",
       "    .dataframe tbody tr th:only-of-type {\n",
       "        vertical-align: middle;\n",
       "    }\n",
       "\n",
       "    .dataframe tbody tr th {\n",
       "        vertical-align: top;\n",
       "    }\n",
       "\n",
       "    .dataframe thead th {\n",
       "        text-align: right;\n",
       "    }\n",
       "</style>\n",
       "<table border=\"1\" class=\"dataframe\">\n",
       "  <thead>\n",
       "    <tr style=\"text-align: right;\">\n",
       "      <th></th>\n",
       "      <th>session_id_hash</th>\n",
       "      <th>product_action</th>\n",
       "      <th>purchase</th>\n",
       "      <th>len</th>\n",
       "      <th>session</th>\n",
       "    </tr>\n",
       "  </thead>\n",
       "  <tbody>\n",
       "    <tr>\n",
       "      <th>0</th>\n",
       "      <td>00000114e1075962f022114fcfc17f2d874e694ac5d201...</td>\n",
       "      <td>[view, view, view, view, view, view, view, det...</td>\n",
       "      <td>0</td>\n",
       "      <td>15</td>\n",
       "      <td>[1, 1, 1, 1, 1, 1, 1, 2, 1, 1, 2, 1, 1, 2, 1]</td>\n",
       "    </tr>\n",
       "    <tr>\n",
       "      <th>37</th>\n",
       "      <td>0000913afa22ba9c31efb992bcf6388b0bbfe28056bef3...</td>\n",
       "      <td>[view, detail, view, view, view, detail, view,...</td>\n",
       "      <td>0</td>\n",
       "      <td>120</td>\n",
       "      <td>[1, 2, 1, 1, 1, 2, 1, 2, 1, 4, 1, 1, 1, 1, 2, ...</td>\n",
       "    </tr>\n",
       "    <tr>\n",
       "      <th>64</th>\n",
       "      <td>00010d84aca1294479304044207fd268f63228844779c6...</td>\n",
       "      <td>[view, view, view, view, view, view, view, vie...</td>\n",
       "      <td>0</td>\n",
       "      <td>24</td>\n",
       "      <td>[1, 1, 1, 1, 1, 1, 1, 1, 2, 1, 4, 1, 1, 2, 1, ...</td>\n",
       "    </tr>\n",
       "    <tr>\n",
       "      <th>84</th>\n",
       "      <td>0001368d732951035a7ef7ef42b345a5c50b7d66966749...</td>\n",
       "      <td>[view, view, detail, add, view, view, view, vi...</td>\n",
       "      <td>0</td>\n",
       "      <td>13</td>\n",
       "      <td>[1, 1, 2, 4, 1, 1, 1, 1, 1, 1, 1, 1, 1]</td>\n",
       "    </tr>\n",
       "    <tr>\n",
       "      <th>119</th>\n",
       "      <td>0001c180fb742f96ff388ba8f67a568e6fa66aed30d0d2...</td>\n",
       "      <td>[remove, view, detail, view, view, view, remov...</td>\n",
       "      <td>1</td>\n",
       "      <td>23</td>\n",
       "      <td>[3, 1, 2, 1, 1, 1, 3, 3, 3, 1, 1, 3, 1, 3, 1, ...</td>\n",
       "    </tr>\n",
       "  </tbody>\n",
       "</table>\n",
       "</div>"
      ],
      "text/plain": [
       "                                       session_id_hash  \\\n",
       "0    00000114e1075962f022114fcfc17f2d874e694ac5d201...   \n",
       "37   0000913afa22ba9c31efb992bcf6388b0bbfe28056bef3...   \n",
       "64   00010d84aca1294479304044207fd268f63228844779c6...   \n",
       "84   0001368d732951035a7ef7ef42b345a5c50b7d66966749...   \n",
       "119  0001c180fb742f96ff388ba8f67a568e6fa66aed30d0d2...   \n",
       "\n",
       "                                        product_action  purchase  len  \\\n",
       "0    [view, view, view, view, view, view, view, det...         0   15   \n",
       "37   [view, detail, view, view, view, detail, view,...         0  120   \n",
       "64   [view, view, view, view, view, view, view, vie...         0   24   \n",
       "84   [view, view, detail, add, view, view, view, vi...         0   13   \n",
       "119  [remove, view, detail, view, view, view, remov...         1   23   \n",
       "\n",
       "                                               session  \n",
       "0        [1, 1, 1, 1, 1, 1, 1, 2, 1, 1, 2, 1, 1, 2, 1]  \n",
       "37   [1, 2, 1, 1, 1, 2, 1, 2, 1, 4, 1, 1, 1, 1, 2, ...  \n",
       "64   [1, 1, 1, 1, 1, 1, 1, 1, 2, 1, 4, 1, 1, 2, 1, ...  \n",
       "84             [1, 1, 2, 4, 1, 1, 1, 1, 1, 1, 1, 1, 1]  \n",
       "119  [3, 1, 2, 1, 1, 1, 3, 3, 3, 1, 1, 3, 1, 3, 1, ...  "
      ]
     },
     "execution_count": 31,
     "metadata": {},
     "output_type": "execute_result"
    }
   ],
   "source": [
    "df.head()"
   ]
  },
  {
   "cell_type": "markdown",
   "id": "fcf14095",
   "metadata": {
    "heading_collapsed": true,
    "hidden": true
   },
   "source": [
    "### Subset data （5，10，15）"
   ]
  },
  {
   "cell_type": "code",
   "execution_count": 68,
   "id": "c1b6e3a9",
   "metadata": {
    "hidden": true,
    "scrolled": true
   },
   "outputs": [
    {
     "name": "stderr",
     "output_type": "stream",
     "text": [
      "/var/folders/dt/552dh9wd7yx6f5wxdyrg4ghw0000gn/T/ipykernel_68972/3985804867.py:2: SettingWithCopyWarning: \n",
      "A value is trying to be set on a copy of a slice from a DataFrame.\n",
      "Try using .loc[row_indexer,col_indexer] = value instead\n",
      "\n",
      "See the caveats in the documentation: https://pandas.pydata.org/pandas-docs/stable/user_guide/indexing.html#returning-a-view-versus-a-copy\n",
      "  df_15[\"session\"] = df_15.session.map(lambda x: tuple(x[0:15]))\n"
     ]
    }
   ],
   "source": [
    "## Subset with sessionn more than 15 post first add to cart\n",
    "df_15 = df[df.len >= 15]\n",
    "df_15[\"session\"] = df_15.session.map(lambda x: tuple(x[0:15]))\n",
    "df_15 = df_15[[\"session\", \"purchase\"]]\n",
    "\n",
    "log[\"more than 15\"] = df_15.shape[0]\n",
    "log"
   ]
  },
  {
   "cell_type": "code",
   "execution_count": 71,
   "id": "a5c8f4fa",
   "metadata": {
    "hidden": true
   },
   "outputs": [
    {
     "name": "stderr",
     "output_type": "stream",
     "text": [
      "/var/folders/dt/552dh9wd7yx6f5wxdyrg4ghw0000gn/T/ipykernel_68972/3190199024.py:2: SettingWithCopyWarning: \n",
      "A value is trying to be set on a copy of a slice from a DataFrame.\n",
      "Try using .loc[row_indexer,col_indexer] = value instead\n",
      "\n",
      "See the caveats in the documentation: https://pandas.pydata.org/pandas-docs/stable/user_guide/indexing.html#returning-a-view-versus-a-copy\n",
      "  df_10[\"session\"] = df_10.session.map(lambda x: tuple(x[0:10]))\n"
     ]
    },
    {
     "data": {
      "text/plain": [
       "{'original length': 30456445,\n",
       " 'contain add': 174054,\n",
       " 'remove outliers': 108626,\n",
       " 'more than 15': 56071,\n",
       " 'more than 10': 76710}"
      ]
     },
     "execution_count": 71,
     "metadata": {},
     "output_type": "execute_result"
    }
   ],
   "source": [
    "## Subset with sessionn more than 10 post first add to cart\n",
    "df_10 = df[df.len >= 10]\n",
    "df_10[\"session\"] = df_10.session.map(lambda x: tuple(x[0:10]))\n",
    "df_10 = df_10[[\"session\", \"purchase\"]]\n",
    "\n",
    "log[\"more than 10\"] = df_10.shape[0]\n",
    "log"
   ]
  },
  {
   "cell_type": "code",
   "execution_count": 74,
   "id": "6c2ed3b8",
   "metadata": {
    "hidden": true
   },
   "outputs": [
    {
     "data": {
      "text/plain": [
       "{'original length': 30456445,\n",
       " 'contain add': 174054,\n",
       " 'remove outliers': 108626,\n",
       " 'more than 15': 56071,\n",
       " 'more than 10': 76710,\n",
       " 'more than 5': 108626}"
      ]
     },
     "execution_count": 74,
     "metadata": {},
     "output_type": "execute_result"
    }
   ],
   "source": [
    "## Subset with sessionn more than 5 post first add to cart\n",
    "df_5 = df[df.len >= 5]\n",
    "df_5[\"session\"] = df_5.session.map(lambda x: tuple(x[0:5]))\n",
    "df_5 = df_5[[\"session\", \"purchase\"]]\n",
    "\n",
    "log[\"more than 5\"] = df_5.shape[0]\n",
    "log"
   ]
  },
  {
   "cell_type": "markdown",
   "id": "9f8a751d",
   "metadata": {},
   "source": [
    "## Oracle model"
   ]
  },
  {
   "cell_type": "code",
   "execution_count": 1,
   "id": "0387504b",
   "metadata": {},
   "outputs": [],
   "source": [
    "import pandas as pd\n",
    "df = pd.read_csv(\"data/filtered_data.csv\")"
   ]
  },
  {
   "cell_type": "code",
   "execution_count": 22,
   "id": "59b69ea6",
   "metadata": {},
   "outputs": [],
   "source": [
    "def convert_session(x):\n",
    "    return [int(i) for i in x.strip(\"[]\").split(\",\")]\n",
    "\n",
    "df.session = df.session.map(convert_session)"
   ]
  },
  {
   "cell_type": "code",
   "execution_count": 23,
   "id": "bdc941a5",
   "metadata": {},
   "outputs": [
    {
     "data": {
      "text/html": [
       "<div>\n",
       "<style scoped>\n",
       "    .dataframe tbody tr th:only-of-type {\n",
       "        vertical-align: middle;\n",
       "    }\n",
       "\n",
       "    .dataframe tbody tr th {\n",
       "        vertical-align: top;\n",
       "    }\n",
       "\n",
       "    .dataframe thead th {\n",
       "        text-align: right;\n",
       "    }\n",
       "</style>\n",
       "<table border=\"1\" class=\"dataframe\">\n",
       "  <thead>\n",
       "    <tr style=\"text-align: right;\">\n",
       "      <th></th>\n",
       "      <th>session_id_hash</th>\n",
       "      <th>product_action</th>\n",
       "      <th>purchase</th>\n",
       "      <th>len</th>\n",
       "      <th>session</th>\n",
       "    </tr>\n",
       "  </thead>\n",
       "  <tbody>\n",
       "    <tr>\n",
       "      <th>0</th>\n",
       "      <td>00000114e1075962f022114fcfc17f2d874e694ac5d201...</td>\n",
       "      <td>['view', 'view', 'view', 'view', 'view', 'view...</td>\n",
       "      <td>0</td>\n",
       "      <td>15</td>\n",
       "      <td>[1, 1, 1, 1, 1, 1, 1, 2, 1, 1, 2, 1, 1, 2, 1]</td>\n",
       "    </tr>\n",
       "    <tr>\n",
       "      <th>1</th>\n",
       "      <td>0000913afa22ba9c31efb992bcf6388b0bbfe28056bef3...</td>\n",
       "      <td>['view', 'detail', 'view', 'view', 'view', 'de...</td>\n",
       "      <td>0</td>\n",
       "      <td>120</td>\n",
       "      <td>[1, 2, 1, 1, 1, 2, 1, 2, 1, 4, 1, 1, 1, 1, 2, ...</td>\n",
       "    </tr>\n",
       "    <tr>\n",
       "      <th>2</th>\n",
       "      <td>00010d84aca1294479304044207fd268f63228844779c6...</td>\n",
       "      <td>['view', 'view', 'view', 'view', 'view', 'view...</td>\n",
       "      <td>0</td>\n",
       "      <td>24</td>\n",
       "      <td>[1, 1, 1, 1, 1, 1, 1, 1, 2, 1, 4, 1, 1, 2, 1, ...</td>\n",
       "    </tr>\n",
       "    <tr>\n",
       "      <th>3</th>\n",
       "      <td>0001368d732951035a7ef7ef42b345a5c50b7d66966749...</td>\n",
       "      <td>['view', 'view', 'detail', 'add', 'view', 'vie...</td>\n",
       "      <td>0</td>\n",
       "      <td>13</td>\n",
       "      <td>[1, 1, 2, 4, 1, 1, 1, 1, 1, 1, 1, 1, 1]</td>\n",
       "    </tr>\n",
       "    <tr>\n",
       "      <th>4</th>\n",
       "      <td>0001c180fb742f96ff388ba8f67a568e6fa66aed30d0d2...</td>\n",
       "      <td>['remove', 'view', 'detail', 'view', 'view', '...</td>\n",
       "      <td>1</td>\n",
       "      <td>23</td>\n",
       "      <td>[3, 1, 2, 1, 1, 1, 3, 3, 3, 1, 1, 3, 1, 3, 1, ...</td>\n",
       "    </tr>\n",
       "    <tr>\n",
       "      <th>...</th>\n",
       "      <td>...</td>\n",
       "      <td>...</td>\n",
       "      <td>...</td>\n",
       "      <td>...</td>\n",
       "      <td>...</td>\n",
       "    </tr>\n",
       "    <tr>\n",
       "      <th>108621</th>\n",
       "      <td>fffccaf02659cd209eb5504ba532bbdabb712f830f3f51...</td>\n",
       "      <td>['detail', 'view', 'view', 'remove', 'add', 'r...</td>\n",
       "      <td>0</td>\n",
       "      <td>14</td>\n",
       "      <td>[2, 1, 1, 3, 4, 3, 1, 1, 1, 1, 1, 1, 2, 1]</td>\n",
       "    </tr>\n",
       "    <tr>\n",
       "      <th>108622</th>\n",
       "      <td>fffdbbaa799c83d83ac6c2666babe7eb2a049320a929e0...</td>\n",
       "      <td>['view', 'view', 'view', 'view', 'view', 'view...</td>\n",
       "      <td>0</td>\n",
       "      <td>11</td>\n",
       "      <td>[1, 1, 1, 1, 1, 1, 1, 1, 1, 1, 1]</td>\n",
       "    </tr>\n",
       "    <tr>\n",
       "      <th>108623</th>\n",
       "      <td>fffe474ed9f207fc66891586fb001542420e985510e447...</td>\n",
       "      <td>['view', 'detail', 'view', 'view', 'view', 'vi...</td>\n",
       "      <td>1</td>\n",
       "      <td>30</td>\n",
       "      <td>[1, 2, 1, 1, 1, 1, 2, 1, 1, 2, 1, 1, 2, 1, 4, ...</td>\n",
       "    </tr>\n",
       "    <tr>\n",
       "      <th>108624</th>\n",
       "      <td>ffff2f2d1dbd19956c340e4e7df3ea2481695387755f4c...</td>\n",
       "      <td>['view', 'view', 'view', 'view', 'view', 'view...</td>\n",
       "      <td>0</td>\n",
       "      <td>12</td>\n",
       "      <td>[1, 1, 1, 1, 1, 1, 1, 1, 1, 1, 1, 1]</td>\n",
       "    </tr>\n",
       "    <tr>\n",
       "      <th>108625</th>\n",
       "      <td>ffff42ffb7ff037c9677a014f450b173e8dc6bc455fdda...</td>\n",
       "      <td>['add', 'view', 'view', 'view', 'view', 'view'...</td>\n",
       "      <td>0</td>\n",
       "      <td>10</td>\n",
       "      <td>[4, 1, 1, 1, 1, 1, 1, 1, 1, 2]</td>\n",
       "    </tr>\n",
       "  </tbody>\n",
       "</table>\n",
       "<p>108626 rows × 5 columns</p>\n",
       "</div>"
      ],
      "text/plain": [
       "                                          session_id_hash  \\\n",
       "0       00000114e1075962f022114fcfc17f2d874e694ac5d201...   \n",
       "1       0000913afa22ba9c31efb992bcf6388b0bbfe28056bef3...   \n",
       "2       00010d84aca1294479304044207fd268f63228844779c6...   \n",
       "3       0001368d732951035a7ef7ef42b345a5c50b7d66966749...   \n",
       "4       0001c180fb742f96ff388ba8f67a568e6fa66aed30d0d2...   \n",
       "...                                                   ...   \n",
       "108621  fffccaf02659cd209eb5504ba532bbdabb712f830f3f51...   \n",
       "108622  fffdbbaa799c83d83ac6c2666babe7eb2a049320a929e0...   \n",
       "108623  fffe474ed9f207fc66891586fb001542420e985510e447...   \n",
       "108624  ffff2f2d1dbd19956c340e4e7df3ea2481695387755f4c...   \n",
       "108625  ffff42ffb7ff037c9677a014f450b173e8dc6bc455fdda...   \n",
       "\n",
       "                                           product_action  purchase  len  \\\n",
       "0       ['view', 'view', 'view', 'view', 'view', 'view...         0   15   \n",
       "1       ['view', 'detail', 'view', 'view', 'view', 'de...         0  120   \n",
       "2       ['view', 'view', 'view', 'view', 'view', 'view...         0   24   \n",
       "3       ['view', 'view', 'detail', 'add', 'view', 'vie...         0   13   \n",
       "4       ['remove', 'view', 'detail', 'view', 'view', '...         1   23   \n",
       "...                                                   ...       ...  ...   \n",
       "108621  ['detail', 'view', 'view', 'remove', 'add', 'r...         0   14   \n",
       "108622  ['view', 'view', 'view', 'view', 'view', 'view...         0   11   \n",
       "108623  ['view', 'detail', 'view', 'view', 'view', 'vi...         1   30   \n",
       "108624  ['view', 'view', 'view', 'view', 'view', 'view...         0   12   \n",
       "108625  ['add', 'view', 'view', 'view', 'view', 'view'...         0   10   \n",
       "\n",
       "                                                  session  \n",
       "0           [1, 1, 1, 1, 1, 1, 1, 2, 1, 1, 2, 1, 1, 2, 1]  \n",
       "1       [1, 2, 1, 1, 1, 2, 1, 2, 1, 4, 1, 1, 1, 1, 2, ...  \n",
       "2       [1, 1, 1, 1, 1, 1, 1, 1, 2, 1, 4, 1, 1, 2, 1, ...  \n",
       "3                 [1, 1, 2, 4, 1, 1, 1, 1, 1, 1, 1, 1, 1]  \n",
       "4       [3, 1, 2, 1, 1, 1, 3, 3, 3, 1, 1, 3, 1, 3, 1, ...  \n",
       "...                                                   ...  \n",
       "108621         [2, 1, 1, 3, 4, 3, 1, 1, 1, 1, 1, 1, 2, 1]  \n",
       "108622                  [1, 1, 1, 1, 1, 1, 1, 1, 1, 1, 1]  \n",
       "108623  [1, 2, 1, 1, 1, 1, 2, 1, 1, 2, 1, 1, 2, 1, 4, ...  \n",
       "108624               [1, 1, 1, 1, 1, 1, 1, 1, 1, 1, 1, 1]  \n",
       "108625                     [4, 1, 1, 1, 1, 1, 1, 1, 1, 2]  \n",
       "\n",
       "[108626 rows x 5 columns]"
      ]
     },
     "execution_count": 23,
     "metadata": {},
     "output_type": "execute_result"
    }
   ],
   "source": [
    "df"
   ]
  },
  {
   "cell_type": "code",
   "execution_count": 24,
   "id": "ef562890",
   "metadata": {},
   "outputs": [],
   "source": [
    "def oracle(X_train, y_train):\n",
    "    '''\n",
    "    This function return a oracle model based on the session and label.\n",
    "    '''\n",
    "    from collections import defaultdict\n",
    "\n",
    "    d = defaultdict(lambda: defaultdict(int))\n",
    "    for s, l in zip(X_train, y_train):\n",
    "        d[str(tuple(s))][l] += 1\n",
    "        \n",
    "    model = {}\n",
    "    for session in d.keys():\n",
    "        n_buy, n_ws = 0, 0\n",
    "        for label in d[session].keys():\n",
    "            if label:\n",
    "                n_buy += d[session][label]\n",
    "            else:\n",
    "                n_ws += d[session][label]\n",
    "        model[session] = n_buy / (n_buy + n_ws)\n",
    "        \n",
    "    return model\n",
    "\n",
    "def oracle_predict(X_train, X_test, y_train, y_test=None):\n",
    "    '''\n",
    "    1. First, get the oracle model from X_train and y_train.\n",
    "    2. Make prediction on X_test.\n",
    "    3. For possibility >0.5 predict 1, else 0.\n",
    "    4. reutrn prediction and F1 score\n",
    "    '''\n",
    "    from sklearn import metrics\n",
    "    model = oracle(X_train, y_train)\n",
    "\n",
    "    y_pred = []\n",
    "    for x in X_test:\n",
    "        pos = model.get(str(x), \"#\") ## For sessions that not in the model, we assign it to #, and then predict 0.\n",
    "        y_pred.append(pos)\n",
    "        \n",
    "    ## count \"#\" first and substitute with 0\n",
    "    missing_rate = y_pred.count(\"#\")/len(y_pred)\n",
    "\n",
    "    y_pred = [1 if y != \"#\" and y >= 0.5 else 0 for y in y_pred]\n",
    "        \n",
    "    if y_test is not None:\n",
    "#         y_test = y_test.to_list()\n",
    "        f1 = metrics.f1_score(y_test, y_pred)\n",
    "        return(f1, missing_rate,y_pred)\n",
    "    else:\n",
    "        return y_pred"
   ]
  },
  {
   "cell_type": "code",
   "execution_count": 25,
   "id": "7d758758",
   "metadata": {},
   "outputs": [],
   "source": [
    "log = {}"
   ]
  },
  {
   "cell_type": "code",
   "execution_count": 26,
   "id": "7fdad44f",
   "metadata": {
    "scrolled": false
   },
   "outputs": [
    {
     "name": "stderr",
     "output_type": "stream",
     "text": [
      "/var/folders/dt/552dh9wd7yx6f5wxdyrg4ghw0000gn/T/ipykernel_95125/3251124556.py:9: SettingWithCopyWarning: \n",
      "A value is trying to be set on a copy of a slice from a DataFrame.\n",
      "Try using .loc[row_indexer,col_indexer] = value instead\n",
      "\n",
      "See the caveats in the documentation: https://pandas.pydata.org/pandas-docs/stable/user_guide/indexing.html#returning-a-view-versus-a-copy\n",
      "  data[\"session\"] = data.session.map(lambda x: tuple(x[0:i]))\n",
      "/var/folders/dt/552dh9wd7yx6f5wxdyrg4ghw0000gn/T/ipykernel_95125/3251124556.py:9: SettingWithCopyWarning: \n",
      "A value is trying to be set on a copy of a slice from a DataFrame.\n",
      "Try using .loc[row_indexer,col_indexer] = value instead\n",
      "\n",
      "See the caveats in the documentation: https://pandas.pydata.org/pandas-docs/stable/user_guide/indexing.html#returning-a-view-versus-a-copy\n",
      "  data[\"session\"] = data.session.map(lambda x: tuple(x[0:i]))\n"
     ]
    },
    {
     "data": {
      "text/plain": [
       "{'oracle_5_f1': 0.13331155040026138,\n",
       " 'oracle_5_missing': 0.0005523336095001381,\n",
       " 'oracle_10_f1': 0.1893939393939394,\n",
       " 'oracle_10_missing': 0.05644635640724808,\n",
       " 'oracle_15_f1': 0.18643216080402011,\n",
       " 'oracle_15_missing': 0.38831921533660274}"
      ]
     },
     "execution_count": 26,
     "metadata": {},
     "output_type": "execute_result"
    }
   ],
   "source": [
    "## make the prediction for 5, 10 and 15, and store the f1 it in a dict\n",
    "## First split the train/test data\n",
    "from sklearn.model_selection import train_test_split\n",
    "\n",
    "for i in [5, 10, 15]:\n",
    "    \n",
    "    ## Subset from the original df\n",
    "    data = df[df.len >= i]\n",
    "    data[\"session\"] = data.session.map(lambda x: tuple(x[0:i]))\n",
    "    data = data[[\"session\", \"purchase\"]]\n",
    "    \n",
    "    ## Split train and test\n",
    "    X_train, X_test, y_train, y_test = train_test_split(data[\"session\"], data[\"purchase\"], test_size=0.2, random_state=123)\n",
    "    f1, missing_rate, prediction = oracle_predict(X_train, X_test, y_train, y_test)\n",
    "    log[f\"oracle_{i}_f1\"] = f1\n",
    "    log[f\"oracle_{i}_missing\"] = missing_rate\n",
    "    \n",
    "log"
   ]
  },
  {
   "cell_type": "markdown",
   "id": "bc6b16f0",
   "metadata": {},
   "source": [
    "### Error Analysis on Oracle Model\n",
    "\n",
    "By comparing the F1 of the oracle model applied to 5, 10 and 15-click-session. We can find that the f1 score decreases as the session gets longer. And one explanation can be that as the session length grows, there will be more sessions in test data that cannot be found in the oracle model."
   ]
  },
  {
   "cell_type": "markdown",
   "id": "8159eccd",
   "metadata": {},
   "source": [
    "## Save current result"
   ]
  },
  {
   "cell_type": "code",
   "execution_count": 27,
   "id": "6ac49b82",
   "metadata": {},
   "outputs": [],
   "source": [
    "## save log to a json file\n",
    "import json\n",
    "\n",
    "json.dump(log, open(\"data/oracle.json\", \"w\"))\n",
    "# df.to_csv(\"data/filtered_data.csv\", index=False)"
   ]
  },
  {
   "cell_type": "code",
   "execution_count": 225,
   "id": "d0e60380",
   "metadata": {},
   "outputs": [
    {
     "name": "stdout",
     "output_type": "stream",
     "text": [
      "\u001b[01;34m.\u001b[00m\r\n",
      "├── EDA.ipynb\r\n",
      "├── README.md\r\n",
      "├── SharedTask.ipynb\r\n",
      "├── \u001b[01;34mdata\u001b[00m\r\n",
      "│   ├── filtered_data.csv\r\n",
      "│   └── log.json\r\n",
      "├── early_prediction.ipynb\r\n",
      "├── filtered_data.csv\r\n",
      "└── \u001b[01;32mtraining_data.csv\u001b[00m\r\n",
      "\r\n",
      "1 directory, 8 files\r\n"
     ]
    }
   ],
   "source": [
    "!tree"
   ]
  }
 ],
 "metadata": {
  "kernelspec": {
   "display_name": "Python 3 (ipykernel)",
   "language": "python",
   "name": "python3"
  },
  "language_info": {
   "codemirror_mode": {
    "name": "ipython",
    "version": 3
   },
   "file_extension": ".py",
   "mimetype": "text/x-python",
   "name": "python",
   "nbconvert_exporter": "python",
   "pygments_lexer": "ipython3",
   "version": "3.8.12"
  },
  "toc": {
   "base_numbering": 1,
   "nav_menu": {},
   "number_sections": true,
   "sideBar": true,
   "skip_h1_title": true,
   "title_cell": "Table of Contents",
   "title_sidebar": "Contents",
   "toc_cell": false,
   "toc_position": {},
   "toc_section_display": true,
   "toc_window_display": true
  }
 },
 "nbformat": 4,
 "nbformat_minor": 5
}
