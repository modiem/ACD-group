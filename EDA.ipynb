{
 "cells": [
  {
   "cell_type": "markdown",
   "id": "787901d2",
   "metadata": {},
   "source": [
    "# EDA"
   ]
  },
  {
   "cell_type": "code",
   "execution_count": 1,
   "id": "5d264af9",
   "metadata": {},
   "outputs": [],
   "source": [
    "import numpy as np\n",
    "import pandas as pd"
   ]
  },
  {
   "cell_type": "code",
   "execution_count": 2,
   "id": "e604221f",
   "metadata": {},
   "outputs": [
    {
     "data": {
      "text/html": [
       "<div>\n",
       "<style scoped>\n",
       "    .dataframe tbody tr th:only-of-type {\n",
       "        vertical-align: middle;\n",
       "    }\n",
       "\n",
       "    .dataframe tbody tr th {\n",
       "        vertical-align: top;\n",
       "    }\n",
       "\n",
       "    .dataframe thead th {\n",
       "        text-align: right;\n",
       "    }\n",
       "</style>\n",
       "<table border=\"1\" class=\"dataframe\">\n",
       "  <thead>\n",
       "    <tr style=\"text-align: right;\">\n",
       "      <th></th>\n",
       "      <th>session_id_hash</th>\n",
       "      <th>event_type</th>\n",
       "      <th>product_action</th>\n",
       "      <th>product_sku_hash</th>\n",
       "      <th>server_timestamp_epoch_ms</th>\n",
       "      <th>hashed_url</th>\n",
       "    </tr>\n",
       "  </thead>\n",
       "  <tbody>\n",
       "    <tr>\n",
       "      <th>0</th>\n",
       "      <td>20c458b802f6ea9374783bfc528b19421be977a6769785...</td>\n",
       "      <td>event_product</td>\n",
       "      <td>detail</td>\n",
       "      <td>d5157f8bc52965390fa21ad5842a8502bc3eb8b0930f3f...</td>\n",
       "      <td>1550885210881</td>\n",
       "      <td>7e4527ac6a32deed4f4f06bb7c49b907b7ca371e59d57d...</td>\n",
       "    </tr>\n",
       "    <tr>\n",
       "      <th>1</th>\n",
       "      <td>20c458b802f6ea9374783bfc528b19421be977a6769785...</td>\n",
       "      <td>event_product</td>\n",
       "      <td>detail</td>\n",
       "      <td>61ef3869355b78e11011f39fc7ac8f8dfb209b3442a9d5...</td>\n",
       "      <td>1550885213307</td>\n",
       "      <td>4ed279f4f0deab6dfc80f4f7bf49d527fd894fa478a9ce...</td>\n",
       "    </tr>\n",
       "    <tr>\n",
       "      <th>2</th>\n",
       "      <td>20c458b802f6ea9374783bfc528b19421be977a6769785...</td>\n",
       "      <td>pageview</td>\n",
       "      <td>NaN</td>\n",
       "      <td>NaN</td>\n",
       "      <td>1550885213307</td>\n",
       "      <td>4ed279f4f0deab6dfc80f4f7bf49d527fd894fa478a9ce...</td>\n",
       "    </tr>\n",
       "    <tr>\n",
       "      <th>3</th>\n",
       "      <td>20c458b802f6ea9374783bfc528b19421be977a6769785...</td>\n",
       "      <td>event_product</td>\n",
       "      <td>detail</td>\n",
       "      <td>d5157f8bc52965390fa21ad5842a8502bc3eb8b0930f3f...</td>\n",
       "      <td>1550885215484</td>\n",
       "      <td>7e4527ac6a32deed4f4f06bb7c49b907b7ca371e59d57d...</td>\n",
       "    </tr>\n",
       "    <tr>\n",
       "      <th>4</th>\n",
       "      <td>20c458b802f6ea9374783bfc528b19421be977a6769785...</td>\n",
       "      <td>pageview</td>\n",
       "      <td>NaN</td>\n",
       "      <td>NaN</td>\n",
       "      <td>1550885215484</td>\n",
       "      <td>7e4527ac6a32deed4f4f06bb7c49b907b7ca371e59d57d...</td>\n",
       "    </tr>\n",
       "  </tbody>\n",
       "</table>\n",
       "</div>"
      ],
      "text/plain": [
       "                                     session_id_hash     event_type  \\\n",
       "0  20c458b802f6ea9374783bfc528b19421be977a6769785...  event_product   \n",
       "1  20c458b802f6ea9374783bfc528b19421be977a6769785...  event_product   \n",
       "2  20c458b802f6ea9374783bfc528b19421be977a6769785...       pageview   \n",
       "3  20c458b802f6ea9374783bfc528b19421be977a6769785...  event_product   \n",
       "4  20c458b802f6ea9374783bfc528b19421be977a6769785...       pageview   \n",
       "\n",
       "  product_action                                   product_sku_hash  \\\n",
       "0         detail  d5157f8bc52965390fa21ad5842a8502bc3eb8b0930f3f...   \n",
       "1         detail  61ef3869355b78e11011f39fc7ac8f8dfb209b3442a9d5...   \n",
       "2            NaN                                                NaN   \n",
       "3         detail  d5157f8bc52965390fa21ad5842a8502bc3eb8b0930f3f...   \n",
       "4            NaN                                                NaN   \n",
       "\n",
       "   server_timestamp_epoch_ms  \\\n",
       "0              1550885210881   \n",
       "1              1550885213307   \n",
       "2              1550885213307   \n",
       "3              1550885215484   \n",
       "4              1550885215484   \n",
       "\n",
       "                                          hashed_url  \n",
       "0  7e4527ac6a32deed4f4f06bb7c49b907b7ca371e59d57d...  \n",
       "1  4ed279f4f0deab6dfc80f4f7bf49d527fd894fa478a9ce...  \n",
       "2  4ed279f4f0deab6dfc80f4f7bf49d527fd894fa478a9ce...  \n",
       "3  7e4527ac6a32deed4f4f06bb7c49b907b7ca371e59d57d...  \n",
       "4  7e4527ac6a32deed4f4f06bb7c49b907b7ca371e59d57d...  "
      ]
     },
     "execution_count": 2,
     "metadata": {},
     "output_type": "execute_result"
    }
   ],
   "source": [
    "df = pd.read_csv(\"training_data.csv\")\n",
    "df.head()"
   ]
  },
  {
   "cell_type": "code",
   "execution_count": 3,
   "id": "ee72c7a7",
   "metadata": {},
   "outputs": [
    {
     "data": {
      "text/plain": [
       "(30456445, 6)"
      ]
     },
     "execution_count": 3,
     "metadata": {},
     "output_type": "execute_result"
    }
   ],
   "source": [
    "df.shape"
   ]
  },
  {
   "cell_type": "code",
   "execution_count": 4,
   "id": "5307b7fd",
   "metadata": {},
   "outputs": [
    {
     "name": "stdout",
     "output_type": "stream",
     "text": [
      "event types: {'event_product', 'pageview'}\n",
      "product actions: {nan, 'add', 'detail', 'purchase', 'remove'}\n"
     ]
    }
   ],
   "source": [
    "print('event types: {}'.format(set(df['event_type'])))\n",
    "print('product actions: {}'.format(set(df['product_action'])))"
   ]
  },
  {
   "cell_type": "markdown",
   "id": "efb8b38a",
   "metadata": {},
   "source": [
    "## Pre-processing"
   ]
  },
  {
   "cell_type": "markdown",
   "id": "0497a520",
   "metadata": {},
   "source": [
    "### Sessionization"
   ]
  },
  {
   "cell_type": "code",
   "execution_count": 5,
   "id": "08a869c2",
   "metadata": {},
   "outputs": [
    {
     "data": {
      "text/html": [
       "<div>\n",
       "<style scoped>\n",
       "    .dataframe tbody tr th:only-of-type {\n",
       "        vertical-align: middle;\n",
       "    }\n",
       "\n",
       "    .dataframe tbody tr th {\n",
       "        vertical-align: top;\n",
       "    }\n",
       "\n",
       "    .dataframe thead th {\n",
       "        text-align: right;\n",
       "    }\n",
       "</style>\n",
       "<table border=\"1\" class=\"dataframe\">\n",
       "  <thead>\n",
       "    <tr style=\"text-align: right;\">\n",
       "      <th></th>\n",
       "      <th>session_id_hash</th>\n",
       "      <th>product_action</th>\n",
       "    </tr>\n",
       "  </thead>\n",
       "  <tbody>\n",
       "    <tr>\n",
       "      <th>0</th>\n",
       "      <td>00000114e1075962f022114fcfc17f2d874e694ac5d201...</td>\n",
       "      <td>[view, detail, add, view, view, view, view, vi...</td>\n",
       "    </tr>\n",
       "    <tr>\n",
       "      <th>1</th>\n",
       "      <td>000009f36a40de1d557afc083dbb3fc03eef2473337bad...</td>\n",
       "      <td>[view, view]</td>\n",
       "    </tr>\n",
       "    <tr>\n",
       "      <th>2</th>\n",
       "      <td>00000e812c3076d18245710a31b348d3f23314b7d0dc90...</td>\n",
       "      <td>[view]</td>\n",
       "    </tr>\n",
       "    <tr>\n",
       "      <th>3</th>\n",
       "      <td>00001355930ff05e66ab30bccff221c33eba90e1517397...</td>\n",
       "      <td>[view, detail]</td>\n",
       "    </tr>\n",
       "    <tr>\n",
       "      <th>4</th>\n",
       "      <td>0000162d1dad0beb867c191ab2c8c7c06086cc57d9ebe2...</td>\n",
       "      <td>[view, view, view, view, detail, view, detail,...</td>\n",
       "    </tr>\n",
       "  </tbody>\n",
       "</table>\n",
       "</div>"
      ],
      "text/plain": [
       "                                     session_id_hash  \\\n",
       "0  00000114e1075962f022114fcfc17f2d874e694ac5d201...   \n",
       "1  000009f36a40de1d557afc083dbb3fc03eef2473337bad...   \n",
       "2  00000e812c3076d18245710a31b348d3f23314b7d0dc90...   \n",
       "3  00001355930ff05e66ab30bccff221c33eba90e1517397...   \n",
       "4  0000162d1dad0beb867c191ab2c8c7c06086cc57d9ebe2...   \n",
       "\n",
       "                                      product_action  \n",
       "0  [view, detail, add, view, view, view, view, vi...  \n",
       "1                                       [view, view]  \n",
       "2                                             [view]  \n",
       "3                                     [view, detail]  \n",
       "4  [view, view, view, view, detail, view, detail,...  "
      ]
     },
     "execution_count": 5,
     "metadata": {},
     "output_type": "execute_result"
    }
   ],
   "source": [
    "# derive sessions from action by action dataset\n",
    "df['product_action'] = df['product_action'].fillna('view')\n",
    "df = df.groupby('session_id_hash')['product_action'].agg(list).reset_index()\n",
    "df.head()"
   ]
  },
  {
   "cell_type": "code",
   "execution_count": 6,
   "id": "b5e47f46",
   "metadata": {},
   "outputs": [
    {
     "data": {
      "text/html": [
       "<div>\n",
       "<style scoped>\n",
       "    .dataframe tbody tr th:only-of-type {\n",
       "        vertical-align: middle;\n",
       "    }\n",
       "\n",
       "    .dataframe tbody tr th {\n",
       "        vertical-align: top;\n",
       "    }\n",
       "\n",
       "    .dataframe thead th {\n",
       "        text-align: right;\n",
       "    }\n",
       "</style>\n",
       "<table border=\"1\" class=\"dataframe\">\n",
       "  <thead>\n",
       "    <tr style=\"text-align: right;\">\n",
       "      <th></th>\n",
       "      <th>session_id_hash</th>\n",
       "      <th>product_action</th>\n",
       "      <th>add</th>\n",
       "    </tr>\n",
       "  </thead>\n",
       "  <tbody>\n",
       "    <tr>\n",
       "      <th>0</th>\n",
       "      <td>00000114e1075962f022114fcfc17f2d874e694ac5d201...</td>\n",
       "      <td>[view, detail, add, view, view, view, view, vi...</td>\n",
       "      <td>1</td>\n",
       "    </tr>\n",
       "    <tr>\n",
       "      <th>1</th>\n",
       "      <td>000009f36a40de1d557afc083dbb3fc03eef2473337bad...</td>\n",
       "      <td>[view, view]</td>\n",
       "      <td>0</td>\n",
       "    </tr>\n",
       "    <tr>\n",
       "      <th>2</th>\n",
       "      <td>00000e812c3076d18245710a31b348d3f23314b7d0dc90...</td>\n",
       "      <td>[view]</td>\n",
       "      <td>0</td>\n",
       "    </tr>\n",
       "    <tr>\n",
       "      <th>3</th>\n",
       "      <td>00001355930ff05e66ab30bccff221c33eba90e1517397...</td>\n",
       "      <td>[view, detail]</td>\n",
       "      <td>0</td>\n",
       "    </tr>\n",
       "    <tr>\n",
       "      <th>4</th>\n",
       "      <td>0000162d1dad0beb867c191ab2c8c7c06086cc57d9ebe2...</td>\n",
       "      <td>[view, view, view, view, detail, view, detail,...</td>\n",
       "      <td>0</td>\n",
       "    </tr>\n",
       "  </tbody>\n",
       "</table>\n",
       "</div>"
      ],
      "text/plain": [
       "                                     session_id_hash  \\\n",
       "0  00000114e1075962f022114fcfc17f2d874e694ac5d201...   \n",
       "1  000009f36a40de1d557afc083dbb3fc03eef2473337bad...   \n",
       "2  00000e812c3076d18245710a31b348d3f23314b7d0dc90...   \n",
       "3  00001355930ff05e66ab30bccff221c33eba90e1517397...   \n",
       "4  0000162d1dad0beb867c191ab2c8c7c06086cc57d9ebe2...   \n",
       "\n",
       "                                      product_action  add  \n",
       "0  [view, detail, add, view, view, view, view, vi...    1  \n",
       "1                                       [view, view]    0  \n",
       "2                                             [view]    0  \n",
       "3                                     [view, detail]    0  \n",
       "4  [view, view, view, view, detail, view, detail,...    0  "
      ]
     },
     "execution_count": 6,
     "metadata": {},
     "output_type": "execute_result"
    }
   ],
   "source": [
    "# select sessions with at least one add-to-cart\n",
    "df = np.where(df.product_action.map(set(['add']).issubset), 1, 0)\n",
    "df_add = df[df[\"add\"] == 1]"
   ]
  },
  {
   "cell_type": "code",
   "execution_count": 10,
   "id": "5f12e953",
   "metadata": {
    "scrolled": true
   },
   "outputs": [
    {
     "name": "stderr",
     "output_type": "stream",
     "text": [
      "/var/folders/dt/552dh9wd7yx6f5wxdyrg4ghw0000gn/T/ipykernel_22634/4236195053.py:2: SettingWithCopyWarning: \n",
      "A value is trying to be set on a copy of a slice from a DataFrame.\n",
      "Try using .loc[row_indexer,col_indexer] = value instead\n",
      "\n",
      "See the caveats in the documentation: https://pandas.pydata.org/pandas-docs/stable/user_guide/indexing.html#returning-a-view-versus-a-copy\n",
      "  df_add['purchase'] = np.where(df_add.product_action.map(set(['purchase']).issubset), 1, 0)\n"
     ]
    },
    {
     "data": {
      "text/html": [
       "<div>\n",
       "<style scoped>\n",
       "    .dataframe tbody tr th:only-of-type {\n",
       "        vertical-align: middle;\n",
       "    }\n",
       "\n",
       "    .dataframe tbody tr th {\n",
       "        vertical-align: top;\n",
       "    }\n",
       "\n",
       "    .dataframe thead th {\n",
       "        text-align: right;\n",
       "    }\n",
       "</style>\n",
       "<table border=\"1\" class=\"dataframe\">\n",
       "  <thead>\n",
       "    <tr style=\"text-align: right;\">\n",
       "      <th></th>\n",
       "      <th>session_id_hash</th>\n",
       "      <th>product_action</th>\n",
       "      <th>add</th>\n",
       "      <th>purchase</th>\n",
       "    </tr>\n",
       "  </thead>\n",
       "  <tbody>\n",
       "    <tr>\n",
       "      <th>0</th>\n",
       "      <td>00000114e1075962f022114fcfc17f2d874e694ac5d201...</td>\n",
       "      <td>[view, detail, add, view, view, view, view, vi...</td>\n",
       "      <td>1</td>\n",
       "      <td>0</td>\n",
       "    </tr>\n",
       "    <tr>\n",
       "      <th>37</th>\n",
       "      <td>0000913afa22ba9c31efb992bcf6388b0bbfe28056bef3...</td>\n",
       "      <td>[view, view, view, detail, view, view, detail,...</td>\n",
       "      <td>1</td>\n",
       "      <td>0</td>\n",
       "    </tr>\n",
       "    <tr>\n",
       "      <th>64</th>\n",
       "      <td>00010d84aca1294479304044207fd268f63228844779c6...</td>\n",
       "      <td>[view, view, view, detail, view, view, view, v...</td>\n",
       "      <td>1</td>\n",
       "      <td>0</td>\n",
       "    </tr>\n",
       "    <tr>\n",
       "      <th>84</th>\n",
       "      <td>0001368d732951035a7ef7ef42b345a5c50b7d66966749...</td>\n",
       "      <td>[view, detail, add, view, view, detail, add, v...</td>\n",
       "      <td>1</td>\n",
       "      <td>0</td>\n",
       "    </tr>\n",
       "    <tr>\n",
       "      <th>119</th>\n",
       "      <td>0001c180fb742f96ff388ba8f67a568e6fa66aed30d0d2...</td>\n",
       "      <td>[view, view, view, view, detail, add, remove, ...</td>\n",
       "      <td>1</td>\n",
       "      <td>1</td>\n",
       "    </tr>\n",
       "  </tbody>\n",
       "</table>\n",
       "</div>"
      ],
      "text/plain": [
       "                                       session_id_hash  \\\n",
       "0    00000114e1075962f022114fcfc17f2d874e694ac5d201...   \n",
       "37   0000913afa22ba9c31efb992bcf6388b0bbfe28056bef3...   \n",
       "64   00010d84aca1294479304044207fd268f63228844779c6...   \n",
       "84   0001368d732951035a7ef7ef42b345a5c50b7d66966749...   \n",
       "119  0001c180fb742f96ff388ba8f67a568e6fa66aed30d0d2...   \n",
       "\n",
       "                                        product_action  add  purchase  \n",
       "0    [view, detail, add, view, view, view, view, vi...    1         0  \n",
       "37   [view, view, view, detail, view, view, detail,...    1         0  \n",
       "64   [view, view, view, detail, view, view, view, v...    1         0  \n",
       "84   [view, detail, add, view, view, detail, add, v...    1         0  \n",
       "119  [view, view, view, view, detail, add, remove, ...    1         1  "
      ]
     },
     "execution_count": 10,
     "metadata": {},
     "output_type": "execute_result"
    }
   ],
   "source": [
    "# add class label to each session (BUY V. NO-BUY)\n",
    "df_add['purchase'] = np.where(df_add.product_action.map(set(['purchase']).issubset), 1, 0)\n",
    "df_add.head()"
   ]
  },
  {
   "cell_type": "code",
   "execution_count": 44,
   "id": "dde12d85",
   "metadata": {},
   "outputs": [],
   "source": [
    "# cut sessions after add\n",
    "# cut BUY sessions to last event before purchase\n",
    "\n",
    "def after_add(lst):\n",
    "    '''\n",
    "    remove the first 'add' and everything before in a given list\n",
    "    '''\n",
    "    for i, action in enumerate(lst):\n",
    "        if action == \"add\":\n",
    "            lst = lst[i+1:]\n",
    "            break\n",
    "    return lst\n",
    "\n",
    "def before_purchase(lst):\n",
    "    '''\n",
    "    1.remove 'purchase' and everything after in a given list\n",
    "    2.if purchase is not in the lst, return the whole list\n",
    "    '''\n",
    "    length = len(lst)\n",
    "    for i, action in enumerate(lst):\n",
    "        if action == \"purchase\":\n",
    "            length = i\n",
    "            break\n",
    "    return lst[:length]  \n"
   ]
  },
  {
   "cell_type": "code",
   "execution_count": 52,
   "id": "fbce952e",
   "metadata": {},
   "outputs": [
    {
     "name": "stderr",
     "output_type": "stream",
     "text": [
      "/var/folders/dt/552dh9wd7yx6f5wxdyrg4ghw0000gn/T/ipykernel_22634/155573439.py:1: SettingWithCopyWarning: \n",
      "A value is trying to be set on a copy of a slice from a DataFrame.\n",
      "Try using .loc[row_indexer,col_indexer] = value instead\n",
      "\n",
      "See the caveats in the documentation: https://pandas.pydata.org/pandas-docs/stable/user_guide/indexing.html#returning-a-view-versus-a-copy\n",
      "  df_add[\"product_action\"]=df_add[\"product_action\"].apply(after_add)\n"
     ]
    }
   ],
   "source": [
    "df_add[\"product_action\"]=df_add[\"product_action\"].apply(after_add)"
   ]
  },
  {
   "cell_type": "code",
   "execution_count": 53,
   "id": "0b8ce9d5",
   "metadata": {},
   "outputs": [
    {
     "name": "stderr",
     "output_type": "stream",
     "text": [
      "/var/folders/dt/552dh9wd7yx6f5wxdyrg4ghw0000gn/T/ipykernel_22634/929184265.py:1: SettingWithCopyWarning: \n",
      "A value is trying to be set on a copy of a slice from a DataFrame.\n",
      "Try using .loc[row_indexer,col_indexer] = value instead\n",
      "\n",
      "See the caveats in the documentation: https://pandas.pydata.org/pandas-docs/stable/user_guide/indexing.html#returning-a-view-versus-a-copy\n",
      "  df_add[\"product_action\"]=df_add[\"product_action\"].apply(before_purchase)\n"
     ]
    }
   ],
   "source": [
    "df_add[\"product_action\"]=df_add[\"product_action\"].apply(before_purchase)"
   ]
  },
  {
   "cell_type": "code",
   "execution_count": 54,
   "id": "23919d70",
   "metadata": {},
   "outputs": [
    {
     "data": {
      "text/html": [
       "<div>\n",
       "<style scoped>\n",
       "    .dataframe tbody tr th:only-of-type {\n",
       "        vertical-align: middle;\n",
       "    }\n",
       "\n",
       "    .dataframe tbody tr th {\n",
       "        vertical-align: top;\n",
       "    }\n",
       "\n",
       "    .dataframe thead th {\n",
       "        text-align: right;\n",
       "    }\n",
       "</style>\n",
       "<table border=\"1\" class=\"dataframe\">\n",
       "  <thead>\n",
       "    <tr style=\"text-align: right;\">\n",
       "      <th></th>\n",
       "      <th>session_id_hash</th>\n",
       "      <th>product_action</th>\n",
       "      <th>add</th>\n",
       "      <th>purchase</th>\n",
       "    </tr>\n",
       "  </thead>\n",
       "  <tbody>\n",
       "    <tr>\n",
       "      <th>0</th>\n",
       "      <td>00000114e1075962f022114fcfc17f2d874e694ac5d201...</td>\n",
       "      <td>[view, view, view, view, view, view, view, det...</td>\n",
       "      <td>1</td>\n",
       "      <td>0</td>\n",
       "    </tr>\n",
       "    <tr>\n",
       "      <th>37</th>\n",
       "      <td>0000913afa22ba9c31efb992bcf6388b0bbfe28056bef3...</td>\n",
       "      <td>[view, detail, view, view, view, detail, view,...</td>\n",
       "      <td>1</td>\n",
       "      <td>0</td>\n",
       "    </tr>\n",
       "    <tr>\n",
       "      <th>64</th>\n",
       "      <td>00010d84aca1294479304044207fd268f63228844779c6...</td>\n",
       "      <td>[view, view, view, view, view, view, view, vie...</td>\n",
       "      <td>1</td>\n",
       "      <td>0</td>\n",
       "    </tr>\n",
       "    <tr>\n",
       "      <th>84</th>\n",
       "      <td>0001368d732951035a7ef7ef42b345a5c50b7d66966749...</td>\n",
       "      <td>[view, view, detail, add, view, view, view, vi...</td>\n",
       "      <td>1</td>\n",
       "      <td>0</td>\n",
       "    </tr>\n",
       "    <tr>\n",
       "      <th>119</th>\n",
       "      <td>0001c180fb742f96ff388ba8f67a568e6fa66aed30d0d2...</td>\n",
       "      <td>[remove, view, detail, view, view, view, remov...</td>\n",
       "      <td>1</td>\n",
       "      <td>1</td>\n",
       "    </tr>\n",
       "  </tbody>\n",
       "</table>\n",
       "</div>"
      ],
      "text/plain": [
       "                                       session_id_hash  \\\n",
       "0    00000114e1075962f022114fcfc17f2d874e694ac5d201...   \n",
       "37   0000913afa22ba9c31efb992bcf6388b0bbfe28056bef3...   \n",
       "64   00010d84aca1294479304044207fd268f63228844779c6...   \n",
       "84   0001368d732951035a7ef7ef42b345a5c50b7d66966749...   \n",
       "119  0001c180fb742f96ff388ba8f67a568e6fa66aed30d0d2...   \n",
       "\n",
       "                                        product_action  add  purchase  \n",
       "0    [view, view, view, view, view, view, view, det...    1         0  \n",
       "37   [view, detail, view, view, view, detail, view,...    1         0  \n",
       "64   [view, view, view, view, view, view, view, vie...    1         0  \n",
       "84   [view, view, detail, add, view, view, view, vi...    1         0  \n",
       "119  [remove, view, detail, view, view, view, remov...    1         1  "
      ]
     },
     "execution_count": 54,
     "metadata": {},
     "output_type": "execute_result"
    }
   ],
   "source": [
    "df_add.head()"
   ]
  }
 ],
 "metadata": {
  "kernelspec": {
   "display_name": "Python 3 (ipykernel)",
   "language": "python",
   "name": "python3"
  },
  "language_info": {
   "codemirror_mode": {
    "name": "ipython",
    "version": 3
   },
   "file_extension": ".py",
   "mimetype": "text/x-python",
   "name": "python",
   "nbconvert_exporter": "python",
   "pygments_lexer": "ipython3",
   "version": "3.8.12"
  },
  "toc": {
   "base_numbering": 1,
   "nav_menu": {},
   "number_sections": true,
   "sideBar": true,
   "skip_h1_title": true,
   "title_cell": "Table of Contents",
   "title_sidebar": "Contents",
   "toc_cell": false,
   "toc_position": {},
   "toc_section_display": true,
   "toc_window_display": true
  }
 },
 "nbformat": 4,
 "nbformat_minor": 5
}
