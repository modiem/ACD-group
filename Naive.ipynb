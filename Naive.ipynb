{
 "cells": [
  {
   "cell_type": "markdown",
   "id": "2fbffaa0",
   "metadata": {},
   "source": [
    "# Naive Bayes model "
   ]
  },
  {
   "cell_type": "code",
   "execution_count": 3,
   "id": "462ab87b",
   "metadata": {},
   "outputs": [],
   "source": [
    "import numpy as np\n",
    "import pandas as pd\n"
   ]
  },
  {
   "cell_type": "markdown",
   "id": "7b211569",
   "metadata": {},
   "source": [
    "## Load the data\n"
   ]
  },
  {
   "cell_type": "code",
   "execution_count": 27,
   "id": "07aac54a",
   "metadata": {},
   "outputs": [
    {
     "data": {
      "text/html": [
       "<div>\n",
       "<style scoped>\n",
       "    .dataframe tbody tr th:only-of-type {\n",
       "        vertical-align: middle;\n",
       "    }\n",
       "\n",
       "    .dataframe tbody tr th {\n",
       "        vertical-align: top;\n",
       "    }\n",
       "\n",
       "    .dataframe thead th {\n",
       "        text-align: right;\n",
       "    }\n",
       "</style>\n",
       "<table border=\"1\" class=\"dataframe\">\n",
       "  <thead>\n",
       "    <tr style=\"text-align: right;\">\n",
       "      <th></th>\n",
       "      <th>session_id_hash</th>\n",
       "      <th>product_action</th>\n",
       "      <th>purchase</th>\n",
       "      <th>len</th>\n",
       "      <th>session</th>\n",
       "    </tr>\n",
       "  </thead>\n",
       "  <tbody>\n",
       "    <tr>\n",
       "      <th>0</th>\n",
       "      <td>00000114e1075962f022114fcfc17f2d874e694ac5d201...</td>\n",
       "      <td>['view', 'view', 'view', 'view', 'view', 'view...</td>\n",
       "      <td>0</td>\n",
       "      <td>15</td>\n",
       "      <td>[1, 1, 1, 1, 1, 1, 1, 2, 1, 1, 2, 1, 1, 2, 1]</td>\n",
       "    </tr>\n",
       "    <tr>\n",
       "      <th>1</th>\n",
       "      <td>0000913afa22ba9c31efb992bcf6388b0bbfe28056bef3...</td>\n",
       "      <td>['view', 'detail', 'view', 'view', 'view', 'de...</td>\n",
       "      <td>0</td>\n",
       "      <td>120</td>\n",
       "      <td>[1, 2, 1, 1, 1, 2, 1, 2, 1, 4, 1, 1, 1, 1, 2, ...</td>\n",
       "    </tr>\n",
       "    <tr>\n",
       "      <th>2</th>\n",
       "      <td>00010d84aca1294479304044207fd268f63228844779c6...</td>\n",
       "      <td>['view', 'view', 'view', 'view', 'view', 'view...</td>\n",
       "      <td>0</td>\n",
       "      <td>24</td>\n",
       "      <td>[1, 1, 1, 1, 1, 1, 1, 1, 2, 1, 4, 1, 1, 2, 1, ...</td>\n",
       "    </tr>\n",
       "    <tr>\n",
       "      <th>3</th>\n",
       "      <td>0001368d732951035a7ef7ef42b345a5c50b7d66966749...</td>\n",
       "      <td>['view', 'view', 'detail', 'add', 'view', 'vie...</td>\n",
       "      <td>0</td>\n",
       "      <td>13</td>\n",
       "      <td>[1, 1, 2, 4, 1, 1, 1, 1, 1, 1, 1, 1, 1]</td>\n",
       "    </tr>\n",
       "    <tr>\n",
       "      <th>4</th>\n",
       "      <td>0001c180fb742f96ff388ba8f67a568e6fa66aed30d0d2...</td>\n",
       "      <td>['remove', 'view', 'detail', 'view', 'view', '...</td>\n",
       "      <td>1</td>\n",
       "      <td>23</td>\n",
       "      <td>[3, 1, 2, 1, 1, 1, 3, 3, 3, 1, 1, 3, 1, 3, 1, ...</td>\n",
       "    </tr>\n",
       "  </tbody>\n",
       "</table>\n",
       "</div>"
      ],
      "text/plain": [
       "                                     session_id_hash  \\\n",
       "0  00000114e1075962f022114fcfc17f2d874e694ac5d201...   \n",
       "1  0000913afa22ba9c31efb992bcf6388b0bbfe28056bef3...   \n",
       "2  00010d84aca1294479304044207fd268f63228844779c6...   \n",
       "3  0001368d732951035a7ef7ef42b345a5c50b7d66966749...   \n",
       "4  0001c180fb742f96ff388ba8f67a568e6fa66aed30d0d2...   \n",
       "\n",
       "                                      product_action  purchase  len  \\\n",
       "0  ['view', 'view', 'view', 'view', 'view', 'view...         0   15   \n",
       "1  ['view', 'detail', 'view', 'view', 'view', 'de...         0  120   \n",
       "2  ['view', 'view', 'view', 'view', 'view', 'view...         0   24   \n",
       "3  ['view', 'view', 'detail', 'add', 'view', 'vie...         0   13   \n",
       "4  ['remove', 'view', 'detail', 'view', 'view', '...         1   23   \n",
       "\n",
       "                                             session  \n",
       "0      [1, 1, 1, 1, 1, 1, 1, 2, 1, 1, 2, 1, 1, 2, 1]  \n",
       "1  [1, 2, 1, 1, 1, 2, 1, 2, 1, 4, 1, 1, 1, 1, 2, ...  \n",
       "2  [1, 1, 1, 1, 1, 1, 1, 1, 2, 1, 4, 1, 1, 2, 1, ...  \n",
       "3            [1, 1, 2, 4, 1, 1, 1, 1, 1, 1, 1, 1, 1]  \n",
       "4  [3, 1, 2, 1, 1, 1, 3, 3, 3, 1, 1, 3, 1, 3, 1, ...  "
      ]
     },
     "execution_count": 27,
     "metadata": {},
     "output_type": "execute_result"
    }
   ],
   "source": [
    "## LOAD the data\n",
    "df = pd.read_csv(\"data/filtered_data.csv\")\n",
    "\n",
    "## Fix the datatype of session column\n",
    "def convert_session(x):\n",
    "    return [int(i) for i in x.strip(\"[]\").split(\",\")]\n",
    "\n",
    "df.session = df.session.map(convert_session)\n",
    "\n",
    "df.head()"
   ]
  },
  {
   "cell_type": "markdown",
   "id": "5681e548",
   "metadata": {},
   "source": [
    "## Split train and test"
   ]
  },
  {
   "cell_type": "code",
   "execution_count": 55,
   "id": "e38c75cc",
   "metadata": {},
   "outputs": [
    {
     "name": "stderr",
     "output_type": "stream",
     "text": [
      "/var/folders/dt/552dh9wd7yx6f5wxdyrg4ghw0000gn/T/ipykernel_97311/2986187285.py:13: SettingWithCopyWarning: \n",
      "A value is trying to be set on a copy of a slice from a DataFrame.\n",
      "Try using .loc[row_indexer,col_indexer] = value instead\n",
      "\n",
      "See the caveats in the documentation: https://pandas.pydata.org/pandas-docs/stable/user_guide/indexing.html#returning-a-view-versus-a-copy\n",
      "  temp[\"session\"] = temp.session.map(lambda x: x[0:i])\n"
     ]
    }
   ],
   "source": [
    "### get subset for training\n",
    "## make the prediction for 5, 10 and 15, and store the f1 it in a dict\n",
    "## First split the train/test data\n",
    "from sklearn.model_selection import train_test_split\n",
    "from collections import defaultdict\n",
    "\n",
    "data = defaultdict(lambda: defaultdict())\n",
    "\n",
    "for i in [5, 10, 15]:\n",
    "    \n",
    "    ## Subset from the original df\n",
    "    temp = df[df.len >= i]\n",
    "    temp[\"session\"] = temp.session.map(lambda x: x[0:i])\n",
    "    temp = temp[[\"session\", \"purchase\"]]\n",
    "    \n",
    "    ## Split train and test\n",
    "    X_train, X_test, y_train, y_test = train_test_split(temp[\"session\"], temp[\"purchase\"], test_size=0.2, random_state=123)\n",
    "    data[f\"{i}_clicks\"][\"X_train\"] = X_train.to_numpy()\n",
    "    data[f\"{i}_clicks\"][\"X_test\"] = X_test.to_numpy()\n",
    "    data[f\"{i}_clicks\"][\"y_train\"] = y_train.to_numpy()\n",
    "    data[f\"{i}_clicks\"][\"y_test\"] = y_test.to_numpy()\n",
    "    \n",
    "    "
   ]
  },
  {
   "cell_type": "code",
   "execution_count": null,
   "id": "ae9459b0",
   "metadata": {},
   "outputs": [],
   "source": [
    "## Define "
   ]
  },
  {
   "cell_type": "code",
   "execution_count": 58,
   "id": "d909a8b7",
   "metadata": {},
   "outputs": [],
   "source": [
    "import numpy as np\n",
    "\n",
    "def ngram_featurizer(session, n=3):\n",
    "    \n",
    "    \"\"\"takes in a list and an integer defining the size of ngrams.\n",
    "     Returns the ngrams of desired size in the input string\"\"\"\n",
    "    \n",
    "    session = ['#']*(n-1) + session + ['+']*(n-1)\n",
    "    ngrams = [tuple(session[i:i+n]) for i in range(len(session)-n+1)]\n",
    "    \n",
    "    return ngrams\n",
    "    \n",
    "\n",
    "def encode_sessions(sessions,n=3, mapping=None):\n",
    "    \n",
    "    \"\"\"\n",
    "    Takes in a list of lists, an integer indicating the character ngrams' size,\n",
    "    and a dictionary mapping ngrams to numerical indices. If no dictionary is passed,\n",
    "    one is created inside the function.\n",
    "    The function outputs a 2d NumPy array with as many rows as there are strings in \n",
    "    the input list, and the mapping from ngrams to indices, representing the columns \n",
    "    of the NumPy array.\n",
    "    \"\"\"\n",
    "    \n",
    "    if not mapping:\n",
    "        all_ngrams = set()\n",
    "        for session in sessions:\n",
    "            all_ngrams = all_ngrams.union(set(ngram_featurizer(session, n)))\n",
    "    \n",
    "        mapping = {ngram: i for i, ngram in enumerate(all_ngrams)}\n",
    "    \n",
    "    X = np.zeros((len(sessions), len(mapping)))\n",
    "    for i, session in enumerate(sessions):\n",
    "        for ngram in ngram_featurizer(session, n):\n",
    "            try:\n",
    "                X[i, mapping[ngram]] += 1\n",
    "            except KeyError:\n",
    "                pass\n",
    "    \n",
    "    return X, mapping"
   ]
  },
  {
   "cell_type": "code",
   "execution_count": 69,
   "id": "662076b6",
   "metadata": {},
   "outputs": [],
   "source": [
    "from sklearn.naive_bayes import MultinomialNB\n",
    "from sklearn import metrics\n",
    "\n",
    "score = {}\n",
    "for i in [5,10,15]:\n",
    "    sessions_train = data[f\"{i}_clicks\"][\"X_train\"]\n",
    "    sessions_eval = data[f\"{i}_clicks\"][\"X_test\"]\n",
    "    labels_train = data[f\"{i}_clicks\"][\"y_train\"]\n",
    "    labels_eval = data[f\"{i}_clicks\"][\"y_test\"]\n",
    "\n",
    "    Xtrain, mapping = encode_sessions(sessions_train)\n",
    "    Xtest, _ = encode_sessions(sessions_eval, mapping=mapping)\n",
    "\n",
    "    NB = MultinomialNB(alpha=1, fit_prior=True)\n",
    "    NB.fit(Xtrain,labels_train)\n",
    "    bayes_predictions = NB.predict(Xtest)\n",
    "    \n",
    "    f1 = metrics.f1_score(labels_eval, bayes_predictions)\n",
    "    \n",
    "    score[f\"F1_{i}-clicks\"] = f1"
   ]
  },
  {
   "cell_type": "code",
   "execution_count": 70,
   "id": "ddefc5cb",
   "metadata": {},
   "outputs": [
    {
     "data": {
      "text/plain": [
       "{'F1_5-clicks': 0.437307333859058,\n",
       " 'F1_10-clicks': 0.41121939624435466,\n",
       " 'F1_15-clicks': 0.4021269524759056}"
      ]
     },
     "execution_count": 70,
     "metadata": {},
     "output_type": "execute_result"
    }
   ],
   "source": [
    "score"
   ]
  },
  {
   "cell_type": "markdown",
   "id": "0857a0a5",
   "metadata": {},
   "source": [
    "## Save the score"
   ]
  },
  {
   "cell_type": "code",
   "execution_count": 71,
   "id": "e5373465",
   "metadata": {},
   "outputs": [],
   "source": [
    "import json\n",
    "\n",
    "json.dump(score, open(\"data/naive_score.json\", \"w\"))\n"
   ]
  }
 ],
 "metadata": {
  "kernelspec": {
   "display_name": "Python 3 (ipykernel)",
   "language": "python",
   "name": "python3"
  },
  "language_info": {
   "codemirror_mode": {
    "name": "ipython",
    "version": 3
   },
   "file_extension": ".py",
   "mimetype": "text/x-python",
   "name": "python",
   "nbconvert_exporter": "python",
   "pygments_lexer": "ipython3",
   "version": "3.8.12"
  },
  "toc": {
   "base_numbering": 1,
   "nav_menu": {},
   "number_sections": true,
   "sideBar": true,
   "skip_h1_title": true,
   "title_cell": "Table of Contents",
   "title_sidebar": "Contents",
   "toc_cell": false,
   "toc_position": {},
   "toc_section_display": true,
   "toc_window_display": true
  }
 },
 "nbformat": 4,
 "nbformat_minor": 5
}
