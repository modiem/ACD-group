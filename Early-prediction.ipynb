{
 "cells": [
  {
   "cell_type": "markdown",
   "id": "787901d2",
   "metadata": {},
   "source": [
    "# Preprocessinng"
   ]
  },
  {
   "cell_type": "code",
   "execution_count": 1,
   "id": "5d264af9",
   "metadata": {},
   "outputs": [],
   "source": [
    "import numpy as np\n",
    "import pandas as pd\n",
    "import seaborn as sns"
   ]
  },
  {
   "cell_type": "code",
   "execution_count": 19,
   "id": "e604221f",
   "metadata": {
    "scrolled": false
   },
   "outputs": [
    {
     "data": {
      "text/html": [
       "<div>\n",
       "<style scoped>\n",
       "    .dataframe tbody tr th:only-of-type {\n",
       "        vertical-align: middle;\n",
       "    }\n",
       "\n",
       "    .dataframe tbody tr th {\n",
       "        vertical-align: top;\n",
       "    }\n",
       "\n",
       "    .dataframe thead th {\n",
       "        text-align: right;\n",
       "    }\n",
       "</style>\n",
       "<table border=\"1\" class=\"dataframe\">\n",
       "  <thead>\n",
       "    <tr style=\"text-align: right;\">\n",
       "      <th></th>\n",
       "      <th>session_id_hash</th>\n",
       "      <th>event_type</th>\n",
       "      <th>product_action</th>\n",
       "      <th>product_sku_hash</th>\n",
       "      <th>server_timestamp_epoch_ms</th>\n",
       "      <th>hashed_url</th>\n",
       "    </tr>\n",
       "  </thead>\n",
       "  <tbody>\n",
       "    <tr>\n",
       "      <th>0</th>\n",
       "      <td>20c458b802f6ea9374783bfc528b19421be977a6769785...</td>\n",
       "      <td>event_product</td>\n",
       "      <td>detail</td>\n",
       "      <td>d5157f8bc52965390fa21ad5842a8502bc3eb8b0930f3f...</td>\n",
       "      <td>1550885210881</td>\n",
       "      <td>7e4527ac6a32deed4f4f06bb7c49b907b7ca371e59d57d...</td>\n",
       "    </tr>\n",
       "    <tr>\n",
       "      <th>1</th>\n",
       "      <td>20c458b802f6ea9374783bfc528b19421be977a6769785...</td>\n",
       "      <td>event_product</td>\n",
       "      <td>detail</td>\n",
       "      <td>61ef3869355b78e11011f39fc7ac8f8dfb209b3442a9d5...</td>\n",
       "      <td>1550885213307</td>\n",
       "      <td>4ed279f4f0deab6dfc80f4f7bf49d527fd894fa478a9ce...</td>\n",
       "    </tr>\n",
       "    <tr>\n",
       "      <th>2</th>\n",
       "      <td>20c458b802f6ea9374783bfc528b19421be977a6769785...</td>\n",
       "      <td>pageview</td>\n",
       "      <td>NaN</td>\n",
       "      <td>NaN</td>\n",
       "      <td>1550885213307</td>\n",
       "      <td>4ed279f4f0deab6dfc80f4f7bf49d527fd894fa478a9ce...</td>\n",
       "    </tr>\n",
       "    <tr>\n",
       "      <th>3</th>\n",
       "      <td>20c458b802f6ea9374783bfc528b19421be977a6769785...</td>\n",
       "      <td>event_product</td>\n",
       "      <td>detail</td>\n",
       "      <td>d5157f8bc52965390fa21ad5842a8502bc3eb8b0930f3f...</td>\n",
       "      <td>1550885215484</td>\n",
       "      <td>7e4527ac6a32deed4f4f06bb7c49b907b7ca371e59d57d...</td>\n",
       "    </tr>\n",
       "    <tr>\n",
       "      <th>4</th>\n",
       "      <td>20c458b802f6ea9374783bfc528b19421be977a6769785...</td>\n",
       "      <td>pageview</td>\n",
       "      <td>NaN</td>\n",
       "      <td>NaN</td>\n",
       "      <td>1550885215484</td>\n",
       "      <td>7e4527ac6a32deed4f4f06bb7c49b907b7ca371e59d57d...</td>\n",
       "    </tr>\n",
       "  </tbody>\n",
       "</table>\n",
       "</div>"
      ],
      "text/plain": [
       "                                     session_id_hash     event_type  \\\n",
       "0  20c458b802f6ea9374783bfc528b19421be977a6769785...  event_product   \n",
       "1  20c458b802f6ea9374783bfc528b19421be977a6769785...  event_product   \n",
       "2  20c458b802f6ea9374783bfc528b19421be977a6769785...       pageview   \n",
       "3  20c458b802f6ea9374783bfc528b19421be977a6769785...  event_product   \n",
       "4  20c458b802f6ea9374783bfc528b19421be977a6769785...       pageview   \n",
       "\n",
       "  product_action                                   product_sku_hash  \\\n",
       "0         detail  d5157f8bc52965390fa21ad5842a8502bc3eb8b0930f3f...   \n",
       "1         detail  61ef3869355b78e11011f39fc7ac8f8dfb209b3442a9d5...   \n",
       "2            NaN                                                NaN   \n",
       "3         detail  d5157f8bc52965390fa21ad5842a8502bc3eb8b0930f3f...   \n",
       "4            NaN                                                NaN   \n",
       "\n",
       "   server_timestamp_epoch_ms  \\\n",
       "0              1550885210881   \n",
       "1              1550885213307   \n",
       "2              1550885213307   \n",
       "3              1550885215484   \n",
       "4              1550885215484   \n",
       "\n",
       "                                          hashed_url  \n",
       "0  7e4527ac6a32deed4f4f06bb7c49b907b7ca371e59d57d...  \n",
       "1  4ed279f4f0deab6dfc80f4f7bf49d527fd894fa478a9ce...  \n",
       "2  4ed279f4f0deab6dfc80f4f7bf49d527fd894fa478a9ce...  \n",
       "3  7e4527ac6a32deed4f4f06bb7c49b907b7ca371e59d57d...  \n",
       "4  7e4527ac6a32deed4f4f06bb7c49b907b7ca371e59d57d...  "
      ]
     },
     "execution_count": 19,
     "metadata": {},
     "output_type": "execute_result"
    }
   ],
   "source": [
    "df = pd.read_csv(\"training_data.csv\")\n",
    "df.head()"
   ]
  },
  {
   "cell_type": "markdown",
   "id": "efb8b38a",
   "metadata": {},
   "source": [
    "## Pre-processing\n",
    "\n",
    "pre-process the sessions (you can execute these tasks in the order you prefer, but make sure to specify which task is being solved in which block of code):\n",
    "1. sessionise <font color='red'>(1pt)</font>\n",
    "1. select sessions with at least one add-to-cart <font color='red'>(1pt)</font>\n",
    "1. add class labels: treat purchase as the positive class <font color='red'>(1pt)</font>\n",
    "1. cut purchase sessions to the last event before the first purchase <font color='red'>(1pt)</font>\n",
    "1. remove sessions shorter than 5 and longer than 155 clicks <font color='red'>(1pt)</font>\n",
    "1. symbolise actions <font color='red'>(1pt)</font>\n"
   ]
  },
  {
   "cell_type": "code",
   "execution_count": 20,
   "id": "08a869c2",
   "metadata": {
    "scrolled": false
   },
   "outputs": [
    {
     "data": {
      "text/html": [
       "<div>\n",
       "<style scoped>\n",
       "    .dataframe tbody tr th:only-of-type {\n",
       "        vertical-align: middle;\n",
       "    }\n",
       "\n",
       "    .dataframe tbody tr th {\n",
       "        vertical-align: top;\n",
       "    }\n",
       "\n",
       "    .dataframe thead th {\n",
       "        text-align: right;\n",
       "    }\n",
       "</style>\n",
       "<table border=\"1\" class=\"dataframe\">\n",
       "  <thead>\n",
       "    <tr style=\"text-align: right;\">\n",
       "      <th></th>\n",
       "      <th>session_id_hash</th>\n",
       "      <th>product_action</th>\n",
       "    </tr>\n",
       "  </thead>\n",
       "  <tbody>\n",
       "    <tr>\n",
       "      <th>0</th>\n",
       "      <td>00000114e1075962f022114fcfc17f2d874e694ac5d201...</td>\n",
       "      <td>[view, detail, add, view, view, view, view, vi...</td>\n",
       "    </tr>\n",
       "    <tr>\n",
       "      <th>1</th>\n",
       "      <td>000009f36a40de1d557afc083dbb3fc03eef2473337bad...</td>\n",
       "      <td>[view, view]</td>\n",
       "    </tr>\n",
       "    <tr>\n",
       "      <th>2</th>\n",
       "      <td>00000e812c3076d18245710a31b348d3f23314b7d0dc90...</td>\n",
       "      <td>[view]</td>\n",
       "    </tr>\n",
       "    <tr>\n",
       "      <th>3</th>\n",
       "      <td>00001355930ff05e66ab30bccff221c33eba90e1517397...</td>\n",
       "      <td>[view, detail]</td>\n",
       "    </tr>\n",
       "    <tr>\n",
       "      <th>4</th>\n",
       "      <td>0000162d1dad0beb867c191ab2c8c7c06086cc57d9ebe2...</td>\n",
       "      <td>[view, view, view, view, detail, view, detail,...</td>\n",
       "    </tr>\n",
       "  </tbody>\n",
       "</table>\n",
       "</div>"
      ],
      "text/plain": [
       "                                     session_id_hash  \\\n",
       "0  00000114e1075962f022114fcfc17f2d874e694ac5d201...   \n",
       "1  000009f36a40de1d557afc083dbb3fc03eef2473337bad...   \n",
       "2  00000e812c3076d18245710a31b348d3f23314b7d0dc90...   \n",
       "3  00001355930ff05e66ab30bccff221c33eba90e1517397...   \n",
       "4  0000162d1dad0beb867c191ab2c8c7c06086cc57d9ebe2...   \n",
       "\n",
       "                                      product_action  \n",
       "0  [view, detail, add, view, view, view, view, vi...  \n",
       "1                                       [view, view]  \n",
       "2                                             [view]  \n",
       "3                                     [view, detail]  \n",
       "4  [view, view, view, view, detail, view, detail,...  "
      ]
     },
     "execution_count": 20,
     "metadata": {},
     "output_type": "execute_result"
    }
   ],
   "source": [
    "# Sessionise:\n",
    "# derive sessions from action by action dataset\n",
    "# merge all the actions by session_id\n",
    "\n",
    "df['product_action'] = df['product_action'].fillna('view')\n",
    "df = df.groupby('session_id_hash')['product_action'].agg(list).reset_index()\n",
    "df.head()"
   ]
  },
  {
   "cell_type": "code",
   "execution_count": 28,
   "id": "ae0c0794",
   "metadata": {},
   "outputs": [],
   "source": [
    "## select sessions with at least one add-to-cart\n",
    "df = df[df.product_action.map(lambda x: \"add\" in x)]"
   ]
  },
  {
   "cell_type": "code",
   "execution_count": 23,
   "id": "c4fa81e7",
   "metadata": {
    "scrolled": true
   },
   "outputs": [
    {
     "data": {
      "text/html": [
       "<div>\n",
       "<style scoped>\n",
       "    .dataframe tbody tr th:only-of-type {\n",
       "        vertical-align: middle;\n",
       "    }\n",
       "\n",
       "    .dataframe tbody tr th {\n",
       "        vertical-align: top;\n",
       "    }\n",
       "\n",
       "    .dataframe thead th {\n",
       "        text-align: right;\n",
       "    }\n",
       "</style>\n",
       "<table border=\"1\" class=\"dataframe\">\n",
       "  <thead>\n",
       "    <tr style=\"text-align: right;\">\n",
       "      <th></th>\n",
       "      <th>session_id_hash</th>\n",
       "      <th>product_action</th>\n",
       "      <th>purchase</th>\n",
       "    </tr>\n",
       "  </thead>\n",
       "  <tbody>\n",
       "    <tr>\n",
       "      <th>0</th>\n",
       "      <td>00000114e1075962f022114fcfc17f2d874e694ac5d201...</td>\n",
       "      <td>[view, detail, add, view, view, view, view, vi...</td>\n",
       "      <td>0</td>\n",
       "    </tr>\n",
       "    <tr>\n",
       "      <th>37</th>\n",
       "      <td>0000913afa22ba9c31efb992bcf6388b0bbfe28056bef3...</td>\n",
       "      <td>[view, view, view, detail, view, view, detail,...</td>\n",
       "      <td>0</td>\n",
       "    </tr>\n",
       "    <tr>\n",
       "      <th>64</th>\n",
       "      <td>00010d84aca1294479304044207fd268f63228844779c6...</td>\n",
       "      <td>[view, view, view, detail, view, view, view, v...</td>\n",
       "      <td>0</td>\n",
       "    </tr>\n",
       "    <tr>\n",
       "      <th>84</th>\n",
       "      <td>0001368d732951035a7ef7ef42b345a5c50b7d66966749...</td>\n",
       "      <td>[view, detail, add, view, view, detail, add, v...</td>\n",
       "      <td>0</td>\n",
       "    </tr>\n",
       "    <tr>\n",
       "      <th>119</th>\n",
       "      <td>0001c180fb742f96ff388ba8f67a568e6fa66aed30d0d2...</td>\n",
       "      <td>[view, view, view, view, detail, add, remove, ...</td>\n",
       "      <td>1</td>\n",
       "    </tr>\n",
       "  </tbody>\n",
       "</table>\n",
       "</div>"
      ],
      "text/plain": [
       "                                       session_id_hash  \\\n",
       "0    00000114e1075962f022114fcfc17f2d874e694ac5d201...   \n",
       "37   0000913afa22ba9c31efb992bcf6388b0bbfe28056bef3...   \n",
       "64   00010d84aca1294479304044207fd268f63228844779c6...   \n",
       "84   0001368d732951035a7ef7ef42b345a5c50b7d66966749...   \n",
       "119  0001c180fb742f96ff388ba8f67a568e6fa66aed30d0d2...   \n",
       "\n",
       "                                        product_action  purchase  \n",
       "0    [view, detail, add, view, view, view, view, vi...         0  \n",
       "37   [view, view, view, detail, view, view, detail,...         0  \n",
       "64   [view, view, view, detail, view, view, view, v...         0  \n",
       "84   [view, detail, add, view, view, detail, add, v...         0  \n",
       "119  [view, view, view, view, detail, add, remove, ...         1  "
      ]
     },
     "execution_count": 23,
     "metadata": {},
     "output_type": "execute_result"
    }
   ],
   "source": [
    "##  labelization\n",
    "df['purchase'] = np.where(df.product_action.map(set(['purchase']).issubset), 1, 0)\n",
    "df.head()"
   ]
  },
  {
   "cell_type": "code",
   "execution_count": 30,
   "id": "aaeb105d",
   "metadata": {
    "scrolled": true
   },
   "outputs": [
    {
     "data": {
      "text/html": [
       "<div>\n",
       "<style scoped>\n",
       "    .dataframe tbody tr th:only-of-type {\n",
       "        vertical-align: middle;\n",
       "    }\n",
       "\n",
       "    .dataframe tbody tr th {\n",
       "        vertical-align: top;\n",
       "    }\n",
       "\n",
       "    .dataframe thead th {\n",
       "        text-align: right;\n",
       "    }\n",
       "</style>\n",
       "<table border=\"1\" class=\"dataframe\">\n",
       "  <thead>\n",
       "    <tr style=\"text-align: right;\">\n",
       "      <th></th>\n",
       "      <th>session_id_hash</th>\n",
       "      <th>product_action</th>\n",
       "      <th>purchase</th>\n",
       "      <th>len</th>\n",
       "    </tr>\n",
       "  </thead>\n",
       "  <tbody>\n",
       "    <tr>\n",
       "      <th>0</th>\n",
       "      <td>00000114e1075962f022114fcfc17f2d874e694ac5d201...</td>\n",
       "      <td>[view, detail, add, view, view, view, view, vi...</td>\n",
       "      <td>0</td>\n",
       "      <td>18</td>\n",
       "    </tr>\n",
       "    <tr>\n",
       "      <th>37</th>\n",
       "      <td>0000913afa22ba9c31efb992bcf6388b0bbfe28056bef3...</td>\n",
       "      <td>[view, view, view, detail, view, view, detail,...</td>\n",
       "      <td>0</td>\n",
       "      <td>139</td>\n",
       "    </tr>\n",
       "    <tr>\n",
       "      <th>64</th>\n",
       "      <td>00010d84aca1294479304044207fd268f63228844779c6...</td>\n",
       "      <td>[view, view, view, detail, view, view, view, v...</td>\n",
       "      <td>0</td>\n",
       "      <td>41</td>\n",
       "    </tr>\n",
       "    <tr>\n",
       "      <th>84</th>\n",
       "      <td>0001368d732951035a7ef7ef42b345a5c50b7d66966749...</td>\n",
       "      <td>[view, detail, add, view, view, detail, add, v...</td>\n",
       "      <td>0</td>\n",
       "      <td>16</td>\n",
       "    </tr>\n",
       "    <tr>\n",
       "      <th>119</th>\n",
       "      <td>0001c180fb742f96ff388ba8f67a568e6fa66aed30d0d2...</td>\n",
       "      <td>[view, view, view, view, detail, add, remove, ...</td>\n",
       "      <td>1</td>\n",
       "      <td>29</td>\n",
       "    </tr>\n",
       "  </tbody>\n",
       "</table>\n",
       "</div>"
      ],
      "text/plain": [
       "                                       session_id_hash  \\\n",
       "0    00000114e1075962f022114fcfc17f2d874e694ac5d201...   \n",
       "37   0000913afa22ba9c31efb992bcf6388b0bbfe28056bef3...   \n",
       "64   00010d84aca1294479304044207fd268f63228844779c6...   \n",
       "84   0001368d732951035a7ef7ef42b345a5c50b7d66966749...   \n",
       "119  0001c180fb742f96ff388ba8f67a568e6fa66aed30d0d2...   \n",
       "\n",
       "                                        product_action  purchase  len  \n",
       "0    [view, detail, add, view, view, view, view, vi...         0   18  \n",
       "37   [view, view, view, detail, view, view, detail,...         0  139  \n",
       "64   [view, view, view, detail, view, view, view, v...         0   41  \n",
       "84   [view, detail, add, view, view, detail, add, v...         0   16  \n",
       "119  [view, view, view, view, detail, add, remove, ...         1   29  "
      ]
     },
     "execution_count": 30,
     "metadata": {},
     "output_type": "execute_result"
    }
   ],
   "source": [
    "### Cut actions before purchase if there is one\n",
    "### keep the full sesssion if there is not\n",
    "df['product_action'] = df['product_action'].map(lambda x: x[0:x.index('purchase')] if 'purchase' in x else x)\n",
    "\n",
    "### Filtered out outliers which > 155 or < 5.    \n",
    "\n",
    "df[\"len\"] = df[\"product_action\"].map(len)\n",
    "\n",
    "# removing very short and very long sessions\n",
    "df.drop(df[df.len < 5].index, inplace=True)\n",
    "df.drop(df[df.len > 155].index, inplace=True)\n",
    "\n",
    "df.head()"
   ]
  },
  {
   "cell_type": "code",
   "execution_count": 29,
   "id": "feafddc2",
   "metadata": {},
   "outputs": [
    {
     "data": {
      "text/plain": [
       "True"
      ]
     },
     "execution_count": 29,
     "metadata": {},
     "output_type": "execute_result"
    }
   ],
   "source": [
    "## Sanity check: the output should be True\n",
    "df[df.product_action.map(lambda x: \"add\" not in x)].shape[0] == 0"
   ]
  },
  {
   "cell_type": "code",
   "execution_count": 32,
   "id": "60ac4d6b",
   "metadata": {},
   "outputs": [
    {
     "data": {
      "text/html": [
       "<div>\n",
       "<style scoped>\n",
       "    .dataframe tbody tr th:only-of-type {\n",
       "        vertical-align: middle;\n",
       "    }\n",
       "\n",
       "    .dataframe tbody tr th {\n",
       "        vertical-align: top;\n",
       "    }\n",
       "\n",
       "    .dataframe thead th {\n",
       "        text-align: right;\n",
       "    }\n",
       "</style>\n",
       "<table border=\"1\" class=\"dataframe\">\n",
       "  <thead>\n",
       "    <tr style=\"text-align: right;\">\n",
       "      <th></th>\n",
       "      <th>session_id_hash</th>\n",
       "      <th>product_action</th>\n",
       "      <th>purchase</th>\n",
       "      <th>len</th>\n",
       "      <th>session</th>\n",
       "    </tr>\n",
       "  </thead>\n",
       "  <tbody>\n",
       "    <tr>\n",
       "      <th>0</th>\n",
       "      <td>00000114e1075962f022114fcfc17f2d874e694ac5d201...</td>\n",
       "      <td>[view, detail, add, view, view, view, view, vi...</td>\n",
       "      <td>0</td>\n",
       "      <td>18</td>\n",
       "      <td>[1, 2, 3, 1, 1, 1, 1, 1, 1, 1, 2, 1, 1, 2, 1, ...</td>\n",
       "    </tr>\n",
       "    <tr>\n",
       "      <th>37</th>\n",
       "      <td>0000913afa22ba9c31efb992bcf6388b0bbfe28056bef3...</td>\n",
       "      <td>[view, view, view, detail, view, view, detail,...</td>\n",
       "      <td>0</td>\n",
       "      <td>139</td>\n",
       "      <td>[1, 1, 1, 2, 1, 1, 2, 1, 1, 1, 1, 2, 1, 1, 1, ...</td>\n",
       "    </tr>\n",
       "    <tr>\n",
       "      <th>64</th>\n",
       "      <td>00010d84aca1294479304044207fd268f63228844779c6...</td>\n",
       "      <td>[view, view, view, detail, view, view, view, v...</td>\n",
       "      <td>0</td>\n",
       "      <td>41</td>\n",
       "      <td>[1, 1, 1, 2, 1, 1, 1, 1, 1, 1, 2, 1, 1, 1, 1, ...</td>\n",
       "    </tr>\n",
       "    <tr>\n",
       "      <th>84</th>\n",
       "      <td>0001368d732951035a7ef7ef42b345a5c50b7d66966749...</td>\n",
       "      <td>[view, detail, add, view, view, detail, add, v...</td>\n",
       "      <td>0</td>\n",
       "      <td>16</td>\n",
       "      <td>[1, 2, 3, 1, 1, 2, 3, 1, 1, 1, 1, 1, 1, 1, 1, 1]</td>\n",
       "    </tr>\n",
       "    <tr>\n",
       "      <th>119</th>\n",
       "      <td>0001c180fb742f96ff388ba8f67a568e6fa66aed30d0d2...</td>\n",
       "      <td>[view, view, view, view, detail, add, remove, ...</td>\n",
       "      <td>1</td>\n",
       "      <td>29</td>\n",
       "      <td>[1, 1, 1, 1, 2, 3, 4, 1, 2, 1, 1, 1, 4, 4, 4, ...</td>\n",
       "    </tr>\n",
       "  </tbody>\n",
       "</table>\n",
       "</div>"
      ],
      "text/plain": [
       "                                       session_id_hash  \\\n",
       "0    00000114e1075962f022114fcfc17f2d874e694ac5d201...   \n",
       "37   0000913afa22ba9c31efb992bcf6388b0bbfe28056bef3...   \n",
       "64   00010d84aca1294479304044207fd268f63228844779c6...   \n",
       "84   0001368d732951035a7ef7ef42b345a5c50b7d66966749...   \n",
       "119  0001c180fb742f96ff388ba8f67a568e6fa66aed30d0d2...   \n",
       "\n",
       "                                        product_action  purchase  len  \\\n",
       "0    [view, detail, add, view, view, view, view, vi...         0   18   \n",
       "37   [view, view, view, detail, view, view, detail,...         0  139   \n",
       "64   [view, view, view, detail, view, view, view, v...         0   41   \n",
       "84   [view, detail, add, view, view, detail, add, v...         0   16   \n",
       "119  [view, view, view, view, detail, add, remove, ...         1   29   \n",
       "\n",
       "                                               session  \n",
       "0    [1, 2, 3, 1, 1, 1, 1, 1, 1, 1, 2, 1, 1, 2, 1, ...  \n",
       "37   [1, 1, 1, 2, 1, 1, 2, 1, 1, 1, 1, 2, 1, 1, 1, ...  \n",
       "64   [1, 1, 1, 2, 1, 1, 1, 1, 1, 1, 2, 1, 1, 1, 1, ...  \n",
       "84    [1, 2, 3, 1, 1, 2, 3, 1, 1, 1, 1, 1, 1, 1, 1, 1]  \n",
       "119  [1, 1, 1, 1, 2, 3, 4, 1, 2, 1, 1, 1, 4, 4, 4, ...  "
      ]
     },
     "execution_count": 32,
     "metadata": {},
     "output_type": "execute_result"
    }
   ],
   "source": [
    "## symbolise actions\n",
    "\n",
    "from collections import Counter\n",
    "\n",
    "sessions = df['product_action'].to_list()\n",
    "labels = df['purchase'].to_list()\n",
    "\n",
    "counts = Counter([item for session in sessions for item in session])\n",
    "symbol2idx = {symbol: idx for idx, symbol in enumerate(sorted(counts, key=counts.get, reverse=True), 1)}\n",
    "\n",
    "df[\"session\"]=df[\"product_action\"].map(lambda session: [symbol2idx[s] for s in session])\n",
    "\n",
    "df.head()"
   ]
  },
  {
   "cell_type": "code",
   "execution_count": 7,
   "id": "a43c66be",
   "metadata": {},
   "outputs": [
    {
     "data": {
      "text/plain": [
       "{'view': 1, 'detail': 2, 'add': 3, 'remove': 4}"
      ]
     },
     "execution_count": 7,
     "metadata": {},
     "output_type": "execute_result"
    }
   ],
   "source": [
    "## Check the symbolisation\n",
    "symbol2idx"
   ]
  },
  {
   "cell_type": "markdown",
   "id": "9f8a751d",
   "metadata": {},
   "source": [
    "## Oracle model"
   ]
  },
  {
   "cell_type": "code",
   "execution_count": 66,
   "id": "ef562890",
   "metadata": {},
   "outputs": [],
   "source": [
    "def oracle(X_train, y_train):\n",
    "    '''\n",
    "    This function return a oracle model based on the session and label.\n",
    "    '''\n",
    "    from collections import defaultdict\n",
    "\n",
    "    d = defaultdict(lambda: defaultdict(int))\n",
    "    for s, l in zip(X_train, y_train):\n",
    "        d[str(tuple(s))][l] += 1\n",
    "        \n",
    "    model = {}\n",
    "    for session in d.keys():\n",
    "        n_buy, n_ws = 0, 0\n",
    "        for label in d[session].keys():\n",
    "            if label:\n",
    "                n_buy += d[session][label]\n",
    "            else:\n",
    "                n_ws += d[session][label]\n",
    "        model[session] = n_buy / (n_buy + n_ws)\n",
    "        \n",
    "    return model\n",
    "\n",
    "def oracle_predict(model, X_test, y_test=None):\n",
    "    '''\n",
    "    1. Make prediction on X_test.\n",
    "    2. For possibility >0.5 predict 1, else 0.\n",
    "    3. reutrn prediction and F1 score\n",
    "    '''\n",
    "    from sklearn import metrics\n",
    "\n",
    "    y_pred = []\n",
    "    for x in X_test:\n",
    "        pos = model.get(str(x), \"#\") ## For sessions that not in the model, we assign it to #, and then predict 0.\n",
    "        y_pred.append(pos)\n",
    "        \n",
    "    ## count \"#\" first and substitute with 0\n",
    "    missing_rate = y_pred.count(\"#\")/len(y_pred)\n",
    "\n",
    "    y_pred = [1 if y != \"#\" and y >= 0.5 else 0 for y in y_pred]\n",
    "        \n",
    "    if y_test is not None:\n",
    "#         y_test = y_test.to_list()\n",
    "        f1 = metrics.f1_score(y_test, y_pred)\n",
    "        return(f1, missing_rate,y_pred)\n",
    "    else:\n",
    "        return y_pred"
   ]
  },
  {
   "cell_type": "code",
   "execution_count": 67,
   "id": "77f3ed2f",
   "metadata": {},
   "outputs": [
    {
     "name": "stderr",
     "output_type": "stream",
     "text": [
      "/Users/moyang/.pyenv/versions/3.8.12/envs/default/lib/python3.8/site-packages/pandas/core/generic.py:5516: SettingWithCopyWarning: \n",
      "A value is trying to be set on a copy of a slice from a DataFrame.\n",
      "Try using .loc[row_indexer,col_indexer] = value instead\n",
      "\n",
      "See the caveats in the documentation: https://pandas.pydata.org/pandas-docs/stable/user_guide/indexing.html#returning-a-view-versus-a-copy\n",
      "  self[name] = value\n"
     ]
    },
    {
     "data": {
      "text/plain": [
       "0.8457940701701135"
      ]
     },
     "execution_count": 67,
     "metadata": {},
     "output_type": "execute_result"
    }
   ],
   "source": [
    "## Oracle model for 5 clicks\n",
    "## Subset from the original df\n",
    "from sklearn.model_selection import train_test_split\n",
    "\n",
    "i = 5\n",
    "data = df[[\"session\", \"purchase\"]]\n",
    "data.session = df.session.map(lambda x: x[:x.index(3)+1+i] if len(x[x.index(3)+1:])>=i else None)\n",
    "data.session = df.session.map(tuple)\n",
    "data = data.dropna()\n",
    "    \n",
    "model = oracle(data.session, data.purchase)\n",
    "f1, missing_rate, prediction = oracle_predict(model, data.session, data.purchase)\n",
    "f1"
   ]
  },
  {
   "cell_type": "code",
   "execution_count": 68,
   "id": "e32033a9",
   "metadata": {},
   "outputs": [
    {
     "name": "stderr",
     "output_type": "stream",
     "text": [
      "/Users/moyang/.pyenv/versions/3.8.12/envs/default/lib/python3.8/site-packages/pandas/core/generic.py:5516: SettingWithCopyWarning: \n",
      "A value is trying to be set on a copy of a slice from a DataFrame.\n",
      "Try using .loc[row_indexer,col_indexer] = value instead\n",
      "\n",
      "See the caveats in the documentation: https://pandas.pydata.org/pandas-docs/stable/user_guide/indexing.html#returning-a-view-versus-a-copy\n",
      "  self[name] = value\n"
     ]
    },
    {
     "data": {
      "text/plain": [
       "0.8457940701701135"
      ]
     },
     "execution_count": 68,
     "metadata": {},
     "output_type": "execute_result"
    }
   ],
   "source": [
    "# oracle model for 10 clicks\n",
    "i = 10\n",
    "data = df[[\"session\", \"purchase\"]]\n",
    "data.session = df.session.map(lambda x: x[:x.index(3)+1+i] if len(x[x.index(3)+1:])>=i else None)\n",
    "data.session = df.session.map(tuple)\n",
    "data = data.dropna()\n",
    "    \n",
    "model = oracle(data.session, data.purchase)\n",
    "f1, missing_rate, prediction = oracle_predict(model, data.session, data.purchase)\n",
    "f1"
   ]
  },
  {
   "cell_type": "code",
   "execution_count": 69,
   "id": "863be33e",
   "metadata": {
    "scrolled": false
   },
   "outputs": [
    {
     "name": "stderr",
     "output_type": "stream",
     "text": [
      "/Users/moyang/.pyenv/versions/3.8.12/envs/default/lib/python3.8/site-packages/pandas/core/generic.py:5516: SettingWithCopyWarning: \n",
      "A value is trying to be set on a copy of a slice from a DataFrame.\n",
      "Try using .loc[row_indexer,col_indexer] = value instead\n",
      "\n",
      "See the caveats in the documentation: https://pandas.pydata.org/pandas-docs/stable/user_guide/indexing.html#returning-a-view-versus-a-copy\n",
      "  self[name] = value\n"
     ]
    },
    {
     "data": {
      "text/plain": [
       "0.8457940701701135"
      ]
     },
     "execution_count": 69,
     "metadata": {},
     "output_type": "execute_result"
    }
   ],
   "source": [
    "# oracle model for 15 clicks\n",
    "i = 15\n",
    "data = df[[\"session\", \"purchase\"]]\n",
    "data.session = df.session.map(lambda x: x[:x.index(3)+1+i] if len(x[x.index(3)+1:])>=i else None)\n",
    "data.session = df.session.map(tuple)\n",
    "data = data.dropna()\n",
    "    \n",
    "model = oracle(data.session, data.purchase)\n",
    "f1, missing_rate, prediction = oracle_predict(model, data.session, data.purchase)\n",
    "f1"
   ]
  },
  {
   "cell_type": "markdown",
   "id": "8159eccd",
   "metadata": {},
   "source": [
    "## Naive Bayes Model"
   ]
  },
  {
   "cell_type": "code",
   "execution_count": 72,
   "id": "6ac49b82",
   "metadata": {},
   "outputs": [],
   "source": [
    "### get subset for training\n",
    "## make the prediction for 5, 10 and 15, and store the f1 it in a dict\n",
    "## First split the train/test data\n",
    "from sklearn.model_selection import train_test_split\n",
    "from collections import defaultdict\n",
    "\n",
    "data = defaultdict(lambda: defaultdict())\n",
    "\n",
    "for i in [5, 10, 15]:\n",
    "    \n",
    "    ## Subset from the original df\n",
    "    temp = df[[\"session\", \"purchase\"]]\n",
    "    temp.session = temp.session.map(lambda x: x[:x.index(3)+1+i] if len(x[x.index(3)+1:])>=i else None)\n",
    "    temp = temp.dropna()\n",
    "    \n",
    "    ## Split train and test\n",
    "    X_train, X_test, y_train, y_test = train_test_split(temp[\"session\"], temp[\"purchase\"], test_size=0.2, random_state=123)\n",
    "    data[f\"{i}_clicks\"][\"X_train\"] = X_train.to_numpy()\n",
    "    data[f\"{i}_clicks\"][\"X_test\"] = X_test.to_numpy()\n",
    "    data[f\"{i}_clicks\"][\"y_train\"] = y_train.to_numpy()\n",
    "    data[f\"{i}_clicks\"][\"y_test\"] = y_test.to_numpy()"
   ]
  },
  {
   "cell_type": "code",
   "execution_count": 74,
   "id": "b2f8be3e",
   "metadata": {},
   "outputs": [],
   "source": [
    "import numpy as np\n",
    "\n",
    "def ngram_featurizer(session, n=3):\n",
    "    \n",
    "    \"\"\"takes in a list and an integer defining the size of ngrams.\n",
    "     Returns the ngrams of desired size in the input string\"\"\"\n",
    "    \n",
    "    session = ['#']*(n-1) + session + ['+']*(n-1)\n",
    "    ngrams = [tuple(session[i:i+n]) for i in range(len(session)-n+1)]\n",
    "    \n",
    "    return ngrams\n",
    "    \n",
    "\n",
    "def encode_sessions(sessions,n=3, mapping=None):\n",
    "    \n",
    "    \"\"\"\n",
    "    Takes in a list of lists, an integer indicating the character ngrams' size,\n",
    "    and a dictionary mapping ngrams to numerical indices. If no dictionary is passed,\n",
    "    one is created inside the function.\n",
    "    The function outputs a 2d NumPy array with as many rows as there are strings in \n",
    "    the input list, and the mapping from ngrams to indices, representing the columns \n",
    "    of the NumPy array.\n",
    "    \"\"\"\n",
    "    \n",
    "    if not mapping:\n",
    "        all_ngrams = set()\n",
    "        for session in sessions:\n",
    "            all_ngrams = all_ngrams.union(set(ngram_featurizer(session, n)))\n",
    "    \n",
    "        mapping = {ngram: i for i, ngram in enumerate(all_ngrams)}\n",
    "    \n",
    "    X = np.zeros((len(sessions), len(mapping)))\n",
    "    for i, session in enumerate(sessions):\n",
    "        for ngram in ngram_featurizer(session, n):\n",
    "            try:\n",
    "                X[i, mapping[ngram]] += 1\n",
    "            except KeyError:\n",
    "                pass\n",
    "    \n",
    "    return X, mapping"
   ]
  },
  {
   "cell_type": "code",
   "execution_count": 75,
   "id": "89e6a71a",
   "metadata": {
    "scrolled": true
   },
   "outputs": [],
   "source": [
    "from sklearn.naive_bayes import MultinomialNB\n",
    "from sklearn import metrics\n",
    "\n",
    "score = {}\n",
    "for i in [5,10,15]:\n",
    "    sessions_train = data[f\"{i}_clicks\"][\"X_train\"]\n",
    "    sessions_eval = data[f\"{i}_clicks\"][\"X_test\"]\n",
    "    labels_train = data[f\"{i}_clicks\"][\"y_train\"]\n",
    "    labels_eval = data[f\"{i}_clicks\"][\"y_test\"]\n",
    "\n",
    "    Xtrain, mapping = encode_sessions(sessions_train)\n",
    "    Xtest, _ = encode_sessions(sessions_eval, mapping=mapping)\n",
    "\n",
    "    NB = MultinomialNB(alpha=1, fit_prior=True)\n",
    "    NB.fit(Xtrain,labels_train)\n",
    "    bayes_predictions = NB.predict(Xtest)\n",
    "    \n",
    "    f1 = metrics.f1_score(labels_eval, bayes_predictions)\n",
    "    \n",
    "    score[f\"F1_{i}-clicks\"] = f1"
   ]
  },
  {
   "cell_type": "code",
   "execution_count": 76,
   "id": "d0e60380",
   "metadata": {},
   "outputs": [
    {
     "data": {
      "text/plain": [
       "{'F1_5-clicks': 0.34254807692307687,\n",
       " 'F1_10-clicks': 0.3847316704459562,\n",
       " 'F1_15-clicks': 0.3973732951675366}"
      ]
     },
     "execution_count": 76,
     "metadata": {},
     "output_type": "execute_result"
    }
   ],
   "source": [
    "score"
   ]
  },
  {
   "cell_type": "code",
   "execution_count": null,
   "id": "ba410f6f",
   "metadata": {},
   "outputs": [],
   "source": []
  }
 ],
 "metadata": {
  "kernelspec": {
   "display_name": "Python 3 (ipykernel)",
   "language": "python",
   "name": "python3"
  },
  "language_info": {
   "codemirror_mode": {
    "name": "ipython",
    "version": 3
   },
   "file_extension": ".py",
   "mimetype": "text/x-python",
   "name": "python",
   "nbconvert_exporter": "python",
   "pygments_lexer": "ipython3",
   "version": "3.8.12"
  },
  "toc": {
   "base_numbering": 1,
   "nav_menu": {},
   "number_sections": true,
   "sideBar": true,
   "skip_h1_title": true,
   "title_cell": "Table of Contents",
   "title_sidebar": "Contents",
   "toc_cell": false,
   "toc_position": {},
   "toc_section_display": true,
   "toc_window_display": true
  }
 },
 "nbformat": 4,
 "nbformat_minor": 5
}
