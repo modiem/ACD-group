{
 "cells": [
  {
   "cell_type": "markdown",
   "id": "787901d2",
   "metadata": {},
   "source": [
    "# Preprocessinng"
   ]
  },
  {
   "cell_type": "code",
   "execution_count": 64,
   "id": "5d264af9",
   "metadata": {},
   "outputs": [],
   "source": [
    "import numpy as np\n",
    "import pandas as pd\n",
    "import seaborn as sns\n",
    "\n",
    "from sklearn.model_selection import train_test_split\n",
    "from sklearn import metrics\n",
    "\n",
    "import warnings\n",
    "warnings.filterwarnings(\"ignore\")"
   ]
  },
  {
   "cell_type": "code",
   "execution_count": 2,
   "id": "e604221f",
   "metadata": {
    "scrolled": false
   },
   "outputs": [
    {
     "data": {
      "text/html": [
       "<div>\n",
       "<style scoped>\n",
       "    .dataframe tbody tr th:only-of-type {\n",
       "        vertical-align: middle;\n",
       "    }\n",
       "\n",
       "    .dataframe tbody tr th {\n",
       "        vertical-align: top;\n",
       "    }\n",
       "\n",
       "    .dataframe thead th {\n",
       "        text-align: right;\n",
       "    }\n",
       "</style>\n",
       "<table border=\"1\" class=\"dataframe\">\n",
       "  <thead>\n",
       "    <tr style=\"text-align: right;\">\n",
       "      <th></th>\n",
       "      <th>session_id_hash</th>\n",
       "      <th>event_type</th>\n",
       "      <th>product_action</th>\n",
       "      <th>product_sku_hash</th>\n",
       "      <th>server_timestamp_epoch_ms</th>\n",
       "      <th>hashed_url</th>\n",
       "    </tr>\n",
       "  </thead>\n",
       "  <tbody>\n",
       "    <tr>\n",
       "      <th>0</th>\n",
       "      <td>20c458b802f6ea9374783bfc528b19421be977a6769785...</td>\n",
       "      <td>event_product</td>\n",
       "      <td>detail</td>\n",
       "      <td>d5157f8bc52965390fa21ad5842a8502bc3eb8b0930f3f...</td>\n",
       "      <td>1550885210881</td>\n",
       "      <td>7e4527ac6a32deed4f4f06bb7c49b907b7ca371e59d57d...</td>\n",
       "    </tr>\n",
       "    <tr>\n",
       "      <th>1</th>\n",
       "      <td>20c458b802f6ea9374783bfc528b19421be977a6769785...</td>\n",
       "      <td>event_product</td>\n",
       "      <td>detail</td>\n",
       "      <td>61ef3869355b78e11011f39fc7ac8f8dfb209b3442a9d5...</td>\n",
       "      <td>1550885213307</td>\n",
       "      <td>4ed279f4f0deab6dfc80f4f7bf49d527fd894fa478a9ce...</td>\n",
       "    </tr>\n",
       "    <tr>\n",
       "      <th>2</th>\n",
       "      <td>20c458b802f6ea9374783bfc528b19421be977a6769785...</td>\n",
       "      <td>pageview</td>\n",
       "      <td>NaN</td>\n",
       "      <td>NaN</td>\n",
       "      <td>1550885213307</td>\n",
       "      <td>4ed279f4f0deab6dfc80f4f7bf49d527fd894fa478a9ce...</td>\n",
       "    </tr>\n",
       "    <tr>\n",
       "      <th>3</th>\n",
       "      <td>20c458b802f6ea9374783bfc528b19421be977a6769785...</td>\n",
       "      <td>event_product</td>\n",
       "      <td>detail</td>\n",
       "      <td>d5157f8bc52965390fa21ad5842a8502bc3eb8b0930f3f...</td>\n",
       "      <td>1550885215484</td>\n",
       "      <td>7e4527ac6a32deed4f4f06bb7c49b907b7ca371e59d57d...</td>\n",
       "    </tr>\n",
       "    <tr>\n",
       "      <th>4</th>\n",
       "      <td>20c458b802f6ea9374783bfc528b19421be977a6769785...</td>\n",
       "      <td>pageview</td>\n",
       "      <td>NaN</td>\n",
       "      <td>NaN</td>\n",
       "      <td>1550885215484</td>\n",
       "      <td>7e4527ac6a32deed4f4f06bb7c49b907b7ca371e59d57d...</td>\n",
       "    </tr>\n",
       "  </tbody>\n",
       "</table>\n",
       "</div>"
      ],
      "text/plain": [
       "                                     session_id_hash     event_type  \\\n",
       "0  20c458b802f6ea9374783bfc528b19421be977a6769785...  event_product   \n",
       "1  20c458b802f6ea9374783bfc528b19421be977a6769785...  event_product   \n",
       "2  20c458b802f6ea9374783bfc528b19421be977a6769785...       pageview   \n",
       "3  20c458b802f6ea9374783bfc528b19421be977a6769785...  event_product   \n",
       "4  20c458b802f6ea9374783bfc528b19421be977a6769785...       pageview   \n",
       "\n",
       "  product_action                                   product_sku_hash  \\\n",
       "0         detail  d5157f8bc52965390fa21ad5842a8502bc3eb8b0930f3f...   \n",
       "1         detail  61ef3869355b78e11011f39fc7ac8f8dfb209b3442a9d5...   \n",
       "2            NaN                                                NaN   \n",
       "3         detail  d5157f8bc52965390fa21ad5842a8502bc3eb8b0930f3f...   \n",
       "4            NaN                                                NaN   \n",
       "\n",
       "   server_timestamp_epoch_ms  \\\n",
       "0              1550885210881   \n",
       "1              1550885213307   \n",
       "2              1550885213307   \n",
       "3              1550885215484   \n",
       "4              1550885215484   \n",
       "\n",
       "                                          hashed_url  \n",
       "0  7e4527ac6a32deed4f4f06bb7c49b907b7ca371e59d57d...  \n",
       "1  4ed279f4f0deab6dfc80f4f7bf49d527fd894fa478a9ce...  \n",
       "2  4ed279f4f0deab6dfc80f4f7bf49d527fd894fa478a9ce...  \n",
       "3  7e4527ac6a32deed4f4f06bb7c49b907b7ca371e59d57d...  \n",
       "4  7e4527ac6a32deed4f4f06bb7c49b907b7ca371e59d57d...  "
      ]
     },
     "execution_count": 2,
     "metadata": {},
     "output_type": "execute_result"
    }
   ],
   "source": [
    "df = pd.read_csv(\"training_data.csv\")\n",
    "df.head()"
   ]
  },
  {
   "cell_type": "markdown",
   "id": "efb8b38a",
   "metadata": {},
   "source": [
    "## Pre-processing\n",
    "\n",
    "pre-process the sessions (you can execute these tasks in the order you prefer, but make sure to specify which task is being solved in which block of code):\n",
    "1. sessionise <font color='red'>(1pt)</font>\n",
    "1. select sessions with at least one add-to-cart <font color='red'>(1pt)</font>\n",
    "1. add class labels: treat purchase as the positive class <font color='red'>(1pt)</font>\n",
    "1. cut purchase sessions to the last event before the first purchase <font color='red'>(1pt)</font>\n",
    "1. remove sessions shorter than 5 and longer than 155 clicks <font color='red'>(1pt)</font>\n",
    "1. symbolise actions <font color='red'>(1pt)</font>\n"
   ]
  },
  {
   "cell_type": "code",
   "execution_count": 3,
   "id": "08a869c2",
   "metadata": {
    "scrolled": true
   },
   "outputs": [
    {
     "data": {
      "text/html": [
       "<div>\n",
       "<style scoped>\n",
       "    .dataframe tbody tr th:only-of-type {\n",
       "        vertical-align: middle;\n",
       "    }\n",
       "\n",
       "    .dataframe tbody tr th {\n",
       "        vertical-align: top;\n",
       "    }\n",
       "\n",
       "    .dataframe thead th {\n",
       "        text-align: right;\n",
       "    }\n",
       "</style>\n",
       "<table border=\"1\" class=\"dataframe\">\n",
       "  <thead>\n",
       "    <tr style=\"text-align: right;\">\n",
       "      <th></th>\n",
       "      <th>session_id_hash</th>\n",
       "      <th>product_action</th>\n",
       "    </tr>\n",
       "  </thead>\n",
       "  <tbody>\n",
       "    <tr>\n",
       "      <th>0</th>\n",
       "      <td>00000114e1075962f022114fcfc17f2d874e694ac5d201...</td>\n",
       "      <td>[view, detail, add, view, view, view, view, vi...</td>\n",
       "    </tr>\n",
       "    <tr>\n",
       "      <th>1</th>\n",
       "      <td>000009f36a40de1d557afc083dbb3fc03eef2473337bad...</td>\n",
       "      <td>[view, view]</td>\n",
       "    </tr>\n",
       "    <tr>\n",
       "      <th>2</th>\n",
       "      <td>00000e812c3076d18245710a31b348d3f23314b7d0dc90...</td>\n",
       "      <td>[view]</td>\n",
       "    </tr>\n",
       "    <tr>\n",
       "      <th>3</th>\n",
       "      <td>00001355930ff05e66ab30bccff221c33eba90e1517397...</td>\n",
       "      <td>[view, detail]</td>\n",
       "    </tr>\n",
       "    <tr>\n",
       "      <th>4</th>\n",
       "      <td>0000162d1dad0beb867c191ab2c8c7c06086cc57d9ebe2...</td>\n",
       "      <td>[view, view, view, view, detail, view, detail,...</td>\n",
       "    </tr>\n",
       "  </tbody>\n",
       "</table>\n",
       "</div>"
      ],
      "text/plain": [
       "                                     session_id_hash  \\\n",
       "0  00000114e1075962f022114fcfc17f2d874e694ac5d201...   \n",
       "1  000009f36a40de1d557afc083dbb3fc03eef2473337bad...   \n",
       "2  00000e812c3076d18245710a31b348d3f23314b7d0dc90...   \n",
       "3  00001355930ff05e66ab30bccff221c33eba90e1517397...   \n",
       "4  0000162d1dad0beb867c191ab2c8c7c06086cc57d9ebe2...   \n",
       "\n",
       "                                      product_action  \n",
       "0  [view, detail, add, view, view, view, view, vi...  \n",
       "1                                       [view, view]  \n",
       "2                                             [view]  \n",
       "3                                     [view, detail]  \n",
       "4  [view, view, view, view, detail, view, detail,...  "
      ]
     },
     "execution_count": 3,
     "metadata": {},
     "output_type": "execute_result"
    }
   ],
   "source": [
    "# Sessionise:\n",
    "# derive sessions from action by action dataset\n",
    "# merge all the actions by session_id\n",
    "\n",
    "df['product_action'] = df['product_action'].fillna('view')\n",
    "df = df.groupby('session_id_hash')['product_action'].agg(list).reset_index()\n",
    "df.head()"
   ]
  },
  {
   "cell_type": "code",
   "execution_count": 4,
   "id": "c4fa81e7",
   "metadata": {
    "scrolled": false
   },
   "outputs": [
    {
     "data": {
      "text/html": [
       "<div>\n",
       "<style scoped>\n",
       "    .dataframe tbody tr th:only-of-type {\n",
       "        vertical-align: middle;\n",
       "    }\n",
       "\n",
       "    .dataframe tbody tr th {\n",
       "        vertical-align: top;\n",
       "    }\n",
       "\n",
       "    .dataframe thead th {\n",
       "        text-align: right;\n",
       "    }\n",
       "</style>\n",
       "<table border=\"1\" class=\"dataframe\">\n",
       "  <thead>\n",
       "    <tr style=\"text-align: right;\">\n",
       "      <th></th>\n",
       "      <th>session_id_hash</th>\n",
       "      <th>product_action</th>\n",
       "      <th>purchase</th>\n",
       "    </tr>\n",
       "  </thead>\n",
       "  <tbody>\n",
       "    <tr>\n",
       "      <th>0</th>\n",
       "      <td>00000114e1075962f022114fcfc17f2d874e694ac5d201...</td>\n",
       "      <td>[view, detail, add, view, view, view, view, vi...</td>\n",
       "      <td>0</td>\n",
       "    </tr>\n",
       "    <tr>\n",
       "      <th>1</th>\n",
       "      <td>000009f36a40de1d557afc083dbb3fc03eef2473337bad...</td>\n",
       "      <td>[view, view]</td>\n",
       "      <td>0</td>\n",
       "    </tr>\n",
       "    <tr>\n",
       "      <th>2</th>\n",
       "      <td>00000e812c3076d18245710a31b348d3f23314b7d0dc90...</td>\n",
       "      <td>[view]</td>\n",
       "      <td>0</td>\n",
       "    </tr>\n",
       "    <tr>\n",
       "      <th>3</th>\n",
       "      <td>00001355930ff05e66ab30bccff221c33eba90e1517397...</td>\n",
       "      <td>[view, detail]</td>\n",
       "      <td>0</td>\n",
       "    </tr>\n",
       "    <tr>\n",
       "      <th>4</th>\n",
       "      <td>0000162d1dad0beb867c191ab2c8c7c06086cc57d9ebe2...</td>\n",
       "      <td>[view, view, view, view, detail, view, detail,...</td>\n",
       "      <td>0</td>\n",
       "    </tr>\n",
       "  </tbody>\n",
       "</table>\n",
       "</div>"
      ],
      "text/plain": [
       "                                     session_id_hash  \\\n",
       "0  00000114e1075962f022114fcfc17f2d874e694ac5d201...   \n",
       "1  000009f36a40de1d557afc083dbb3fc03eef2473337bad...   \n",
       "2  00000e812c3076d18245710a31b348d3f23314b7d0dc90...   \n",
       "3  00001355930ff05e66ab30bccff221c33eba90e1517397...   \n",
       "4  0000162d1dad0beb867c191ab2c8c7c06086cc57d9ebe2...   \n",
       "\n",
       "                                      product_action  purchase  \n",
       "0  [view, detail, add, view, view, view, view, vi...         0  \n",
       "1                                       [view, view]         0  \n",
       "2                                             [view]         0  \n",
       "3                                     [view, detail]         0  \n",
       "4  [view, view, view, view, detail, view, detail,...         0  "
      ]
     },
     "execution_count": 4,
     "metadata": {},
     "output_type": "execute_result"
    }
   ],
   "source": [
    "##  labelization\n",
    "df['purchase'] = np.where(df.product_action.map(set(['purchase']).issubset), 1, 0)\n",
    "df.head()"
   ]
  },
  {
   "cell_type": "code",
   "execution_count": 5,
   "id": "aaeb105d",
   "metadata": {
    "scrolled": true
   },
   "outputs": [
    {
     "data": {
      "text/html": [
       "<div>\n",
       "<style scoped>\n",
       "    .dataframe tbody tr th:only-of-type {\n",
       "        vertical-align: middle;\n",
       "    }\n",
       "\n",
       "    .dataframe tbody tr th {\n",
       "        vertical-align: top;\n",
       "    }\n",
       "\n",
       "    .dataframe thead th {\n",
       "        text-align: right;\n",
       "    }\n",
       "</style>\n",
       "<table border=\"1\" class=\"dataframe\">\n",
       "  <thead>\n",
       "    <tr style=\"text-align: right;\">\n",
       "      <th></th>\n",
       "      <th>session_id_hash</th>\n",
       "      <th>product_action</th>\n",
       "      <th>purchase</th>\n",
       "      <th>len</th>\n",
       "    </tr>\n",
       "  </thead>\n",
       "  <tbody>\n",
       "    <tr>\n",
       "      <th>0</th>\n",
       "      <td>00000114e1075962f022114fcfc17f2d874e694ac5d201...</td>\n",
       "      <td>[view, detail, add, view, view, view, view, vi...</td>\n",
       "      <td>0</td>\n",
       "      <td>18</td>\n",
       "    </tr>\n",
       "    <tr>\n",
       "      <th>37</th>\n",
       "      <td>0000913afa22ba9c31efb992bcf6388b0bbfe28056bef3...</td>\n",
       "      <td>[view, view, view, detail, view, view, detail,...</td>\n",
       "      <td>0</td>\n",
       "      <td>139</td>\n",
       "    </tr>\n",
       "    <tr>\n",
       "      <th>64</th>\n",
       "      <td>00010d84aca1294479304044207fd268f63228844779c6...</td>\n",
       "      <td>[view, view, view, detail, view, view, view, v...</td>\n",
       "      <td>0</td>\n",
       "      <td>41</td>\n",
       "    </tr>\n",
       "    <tr>\n",
       "      <th>84</th>\n",
       "      <td>0001368d732951035a7ef7ef42b345a5c50b7d66966749...</td>\n",
       "      <td>[view, detail, add, view, view, detail, add, v...</td>\n",
       "      <td>0</td>\n",
       "      <td>16</td>\n",
       "    </tr>\n",
       "    <tr>\n",
       "      <th>119</th>\n",
       "      <td>0001c180fb742f96ff388ba8f67a568e6fa66aed30d0d2...</td>\n",
       "      <td>[view, view, view, view, detail, add, remove, ...</td>\n",
       "      <td>1</td>\n",
       "      <td>29</td>\n",
       "    </tr>\n",
       "  </tbody>\n",
       "</table>\n",
       "</div>"
      ],
      "text/plain": [
       "                                       session_id_hash  \\\n",
       "0    00000114e1075962f022114fcfc17f2d874e694ac5d201...   \n",
       "37   0000913afa22ba9c31efb992bcf6388b0bbfe28056bef3...   \n",
       "64   00010d84aca1294479304044207fd268f63228844779c6...   \n",
       "84   0001368d732951035a7ef7ef42b345a5c50b7d66966749...   \n",
       "119  0001c180fb742f96ff388ba8f67a568e6fa66aed30d0d2...   \n",
       "\n",
       "                                        product_action  purchase  len  \n",
       "0    [view, detail, add, view, view, view, view, vi...         0   18  \n",
       "37   [view, view, view, detail, view, view, detail,...         0  139  \n",
       "64   [view, view, view, detail, view, view, view, v...         0   41  \n",
       "84   [view, detail, add, view, view, detail, add, v...         0   16  \n",
       "119  [view, view, view, view, detail, add, remove, ...         1   29  "
      ]
     },
     "execution_count": 5,
     "metadata": {},
     "output_type": "execute_result"
    }
   ],
   "source": [
    "### Cut actions before purchase if there is one\n",
    "### keep the full sesssion if there is not\n",
    "df['product_action'] = df['product_action'].map(lambda x: x[0:x.index('purchase')] if 'purchase' in x else x)\n",
    "\n",
    "## select sessions with at least one add-to-cart\n",
    "df = df[df.product_action.map(lambda x: \"add\" in x)]\n",
    "\n",
    "### Filtered out outliers which > 155 or < 5.    \n",
    "\n",
    "df[\"len\"] = df[\"product_action\"].map(len)\n",
    "\n",
    "# removing very short and very long sessions\n",
    "df.drop(df[df.len < 5].index, inplace=True)\n",
    "df.drop(df[df.len > 155].index, inplace=True)\n",
    "\n",
    "df.head()"
   ]
  },
  {
   "cell_type": "code",
   "execution_count": 6,
   "id": "feafddc2",
   "metadata": {},
   "outputs": [
    {
     "data": {
      "text/plain": [
       "0"
      ]
     },
     "execution_count": 6,
     "metadata": {},
     "output_type": "execute_result"
    }
   ],
   "source": [
    "## Sanity check: the output should be True\n",
    "df[df.product_action.map(lambda x: \"add\" not in x)].shape[0]"
   ]
  },
  {
   "cell_type": "code",
   "execution_count": 7,
   "id": "60ac4d6b",
   "metadata": {},
   "outputs": [
    {
     "data": {
      "text/html": [
       "<div>\n",
       "<style scoped>\n",
       "    .dataframe tbody tr th:only-of-type {\n",
       "        vertical-align: middle;\n",
       "    }\n",
       "\n",
       "    .dataframe tbody tr th {\n",
       "        vertical-align: top;\n",
       "    }\n",
       "\n",
       "    .dataframe thead th {\n",
       "        text-align: right;\n",
       "    }\n",
       "</style>\n",
       "<table border=\"1\" class=\"dataframe\">\n",
       "  <thead>\n",
       "    <tr style=\"text-align: right;\">\n",
       "      <th></th>\n",
       "      <th>session_id_hash</th>\n",
       "      <th>product_action</th>\n",
       "      <th>purchase</th>\n",
       "      <th>len</th>\n",
       "      <th>session</th>\n",
       "    </tr>\n",
       "  </thead>\n",
       "  <tbody>\n",
       "    <tr>\n",
       "      <th>0</th>\n",
       "      <td>00000114e1075962f022114fcfc17f2d874e694ac5d201...</td>\n",
       "      <td>[view, detail, add, view, view, view, view, vi...</td>\n",
       "      <td>0</td>\n",
       "      <td>18</td>\n",
       "      <td>[1, 2, 3, 1, 1, 1, 1, 1, 1, 1, 2, 1, 1, 2, 1, ...</td>\n",
       "    </tr>\n",
       "    <tr>\n",
       "      <th>37</th>\n",
       "      <td>0000913afa22ba9c31efb992bcf6388b0bbfe28056bef3...</td>\n",
       "      <td>[view, view, view, detail, view, view, detail,...</td>\n",
       "      <td>0</td>\n",
       "      <td>139</td>\n",
       "      <td>[1, 1, 1, 2, 1, 1, 2, 1, 1, 1, 1, 2, 1, 1, 1, ...</td>\n",
       "    </tr>\n",
       "    <tr>\n",
       "      <th>64</th>\n",
       "      <td>00010d84aca1294479304044207fd268f63228844779c6...</td>\n",
       "      <td>[view, view, view, detail, view, view, view, v...</td>\n",
       "      <td>0</td>\n",
       "      <td>41</td>\n",
       "      <td>[1, 1, 1, 2, 1, 1, 1, 1, 1, 1, 2, 1, 1, 1, 1, ...</td>\n",
       "    </tr>\n",
       "    <tr>\n",
       "      <th>84</th>\n",
       "      <td>0001368d732951035a7ef7ef42b345a5c50b7d66966749...</td>\n",
       "      <td>[view, detail, add, view, view, detail, add, v...</td>\n",
       "      <td>0</td>\n",
       "      <td>16</td>\n",
       "      <td>[1, 2, 3, 1, 1, 2, 3, 1, 1, 1, 1, 1, 1, 1, 1, 1]</td>\n",
       "    </tr>\n",
       "    <tr>\n",
       "      <th>119</th>\n",
       "      <td>0001c180fb742f96ff388ba8f67a568e6fa66aed30d0d2...</td>\n",
       "      <td>[view, view, view, view, detail, add, remove, ...</td>\n",
       "      <td>1</td>\n",
       "      <td>29</td>\n",
       "      <td>[1, 1, 1, 1, 2, 3, 4, 1, 2, 1, 1, 1, 4, 4, 4, ...</td>\n",
       "    </tr>\n",
       "  </tbody>\n",
       "</table>\n",
       "</div>"
      ],
      "text/plain": [
       "                                       session_id_hash  \\\n",
       "0    00000114e1075962f022114fcfc17f2d874e694ac5d201...   \n",
       "37   0000913afa22ba9c31efb992bcf6388b0bbfe28056bef3...   \n",
       "64   00010d84aca1294479304044207fd268f63228844779c6...   \n",
       "84   0001368d732951035a7ef7ef42b345a5c50b7d66966749...   \n",
       "119  0001c180fb742f96ff388ba8f67a568e6fa66aed30d0d2...   \n",
       "\n",
       "                                        product_action  purchase  len  \\\n",
       "0    [view, detail, add, view, view, view, view, vi...         0   18   \n",
       "37   [view, view, view, detail, view, view, detail,...         0  139   \n",
       "64   [view, view, view, detail, view, view, view, v...         0   41   \n",
       "84   [view, detail, add, view, view, detail, add, v...         0   16   \n",
       "119  [view, view, view, view, detail, add, remove, ...         1   29   \n",
       "\n",
       "                                               session  \n",
       "0    [1, 2, 3, 1, 1, 1, 1, 1, 1, 1, 2, 1, 1, 2, 1, ...  \n",
       "37   [1, 1, 1, 2, 1, 1, 2, 1, 1, 1, 1, 2, 1, 1, 1, ...  \n",
       "64   [1, 1, 1, 2, 1, 1, 1, 1, 1, 1, 2, 1, 1, 1, 1, ...  \n",
       "84    [1, 2, 3, 1, 1, 2, 3, 1, 1, 1, 1, 1, 1, 1, 1, 1]  \n",
       "119  [1, 1, 1, 1, 2, 3, 4, 1, 2, 1, 1, 1, 4, 4, 4, ...  "
      ]
     },
     "execution_count": 7,
     "metadata": {},
     "output_type": "execute_result"
    }
   ],
   "source": [
    "## symbolise actions\n",
    "\n",
    "from collections import Counter\n",
    "\n",
    "sessions = df['product_action'].to_list()\n",
    "labels = df['purchase'].to_list()\n",
    "\n",
    "counts = Counter([item for session in sessions for item in session])\n",
    "symbol2idx = {symbol: idx for idx, symbol in enumerate(sorted(counts, key=counts.get, reverse=True), 1)}\n",
    "\n",
    "df[\"session\"]=df[\"product_action\"].map(lambda session: [symbol2idx[s] for s in session])\n",
    "\n",
    "df.head()"
   ]
  },
  {
   "cell_type": "code",
   "execution_count": 8,
   "id": "a43c66be",
   "metadata": {
    "scrolled": true
   },
   "outputs": [
    {
     "data": {
      "text/plain": [
       "{'view': 1, 'detail': 2, 'add': 3, 'remove': 4}"
      ]
     },
     "execution_count": 8,
     "metadata": {},
     "output_type": "execute_result"
    }
   ],
   "source": [
    "## Check the symbolisation\n",
    "symbol2idx"
   ]
  },
  {
   "cell_type": "markdown",
   "id": "9f8a751d",
   "metadata": {},
   "source": [
    "## Oracle model"
   ]
  },
  {
   "cell_type": "code",
   "execution_count": 66,
   "id": "ef562890",
   "metadata": {},
   "outputs": [],
   "source": [
    "def oracle(X_train, y_train):\n",
    "    '''\n",
    "    This function return a oracle model based on the session and label.\n",
    "    '''\n",
    "    from collections import defaultdict\n",
    "\n",
    "    d = defaultdict(lambda: defaultdict(int))\n",
    "    for s, l in zip(X_train, y_train):\n",
    "        d[str(tuple(s))][l] += 1\n",
    "        \n",
    "    model = {}\n",
    "    for session in d.keys():\n",
    "        n_buy, n_ws = 0, 0\n",
    "        for label in d[session].keys():\n",
    "            if label:\n",
    "                n_buy += d[session][label]\n",
    "            else:\n",
    "                n_ws += d[session][label]\n",
    "        model[session] = n_buy / (n_buy + n_ws)\n",
    "        \n",
    "    return model\n",
    "\n",
    "def oracle_predict(model, X_test, y_test=None):\n",
    "    '''\n",
    "    1. Make prediction on X_test.\n",
    "    2. For possibility >0.5 predict 1, else 0.\n",
    "    3. reutrn prediction and F1 score\n",
    "    '''\n",
    "    from sklearn import metrics\n",
    "\n",
    "    y_pred = []\n",
    "    for x in X_test:\n",
    "        pos = model.get(str(x), \"#\") ## For sessions that not in the model, we assign it to #, and then predict 0.\n",
    "        y_pred.append(pos)\n",
    "        \n",
    "    ## count \"#\" first and substitute with 0\n",
    "    missing_rate = y_pred.count(\"#\")/len(y_pred)\n",
    "\n",
    "    y_pred = [1 if y != \"#\" and y >= 0.5 else 0 for y in y_pred]\n",
    "        \n",
    "    if y_test is not None:\n",
    "#         y_test = y_test.to_list()\n",
    "        f1 = metrics.f1_score(y_test, y_pred)\n",
    "        return(f1, missing_rate,y_pred)\n",
    "    else:\n",
    "        return y_pred"
   ]
  },
  {
   "cell_type": "code",
   "execution_count": 67,
   "id": "77f3ed2f",
   "metadata": {},
   "outputs": [
    {
     "name": "stderr",
     "output_type": "stream",
     "text": [
      "/Users/moyang/.pyenv/versions/3.8.12/envs/default/lib/python3.8/site-packages/pandas/core/generic.py:5516: SettingWithCopyWarning: \n",
      "A value is trying to be set on a copy of a slice from a DataFrame.\n",
      "Try using .loc[row_indexer,col_indexer] = value instead\n",
      "\n",
      "See the caveats in the documentation: https://pandas.pydata.org/pandas-docs/stable/user_guide/indexing.html#returning-a-view-versus-a-copy\n",
      "  self[name] = value\n"
     ]
    },
    {
     "data": {
      "text/plain": [
       "0.8457940701701135"
      ]
     },
     "execution_count": 67,
     "metadata": {},
     "output_type": "execute_result"
    }
   ],
   "source": [
    "## Oracle model for 5 clicks\n",
    "## Subset from the original df\n",
    "from sklearn.model_selection import train_test_split\n",
    "\n",
    "i = 5\n",
    "data = df[[\"session\", \"purchase\"]]\n",
    "data.session = df.session.map(lambda x: x[:x.index(3)+1+i] if len(x[x.index(3)+1:])>=i else None)\n",
    "data.session = df.session.map(tuple)\n",
    "data = data.dropna()\n",
    "    \n",
    "model = oracle(data.session, data.purchase)\n",
    "f1, missing_rate, prediction = oracle_predict(model, data.session, data.purchase)\n",
    "f1"
   ]
  },
  {
   "cell_type": "code",
   "execution_count": 68,
   "id": "e32033a9",
   "metadata": {},
   "outputs": [
    {
     "name": "stderr",
     "output_type": "stream",
     "text": [
      "/Users/moyang/.pyenv/versions/3.8.12/envs/default/lib/python3.8/site-packages/pandas/core/generic.py:5516: SettingWithCopyWarning: \n",
      "A value is trying to be set on a copy of a slice from a DataFrame.\n",
      "Try using .loc[row_indexer,col_indexer] = value instead\n",
      "\n",
      "See the caveats in the documentation: https://pandas.pydata.org/pandas-docs/stable/user_guide/indexing.html#returning-a-view-versus-a-copy\n",
      "  self[name] = value\n"
     ]
    },
    {
     "data": {
      "text/plain": [
       "0.8457940701701135"
      ]
     },
     "execution_count": 68,
     "metadata": {},
     "output_type": "execute_result"
    }
   ],
   "source": [
    "# oracle model for 10 clicks\n",
    "i = 10\n",
    "data = df[[\"session\", \"purchase\"]]\n",
    "data.session = df.session.map(lambda x: x[:x.index(3)+1+i] if len(x[x.index(3)+1:])>=i else None)\n",
    "data.session = df.session.map(tuple)\n",
    "data = data.dropna()\n",
    "    \n",
    "model = oracle(data.session, data.purchase)\n",
    "f1, missing_rate, prediction = oracle_predict(model, data.session, data.purchase)\n",
    "f1"
   ]
  },
  {
   "cell_type": "code",
   "execution_count": 69,
   "id": "863be33e",
   "metadata": {
    "scrolled": false
   },
   "outputs": [
    {
     "name": "stderr",
     "output_type": "stream",
     "text": [
      "/Users/moyang/.pyenv/versions/3.8.12/envs/default/lib/python3.8/site-packages/pandas/core/generic.py:5516: SettingWithCopyWarning: \n",
      "A value is trying to be set on a copy of a slice from a DataFrame.\n",
      "Try using .loc[row_indexer,col_indexer] = value instead\n",
      "\n",
      "See the caveats in the documentation: https://pandas.pydata.org/pandas-docs/stable/user_guide/indexing.html#returning-a-view-versus-a-copy\n",
      "  self[name] = value\n"
     ]
    },
    {
     "data": {
      "text/plain": [
       "0.8457940701701135"
      ]
     },
     "execution_count": 69,
     "metadata": {},
     "output_type": "execute_result"
    }
   ],
   "source": [
    "# oracle model for 15 clicks\n",
    "i = 15\n",
    "data = df[[\"session\", \"purchase\"]]\n",
    "data.session = df.session.map(lambda x: x[:x.index(3)+1+i] if len(x[x.index(3)+1:])>=i else None)\n",
    "data.session = df.session.map(tuple)\n",
    "data = data.dropna()\n",
    "    \n",
    "model = oracle(data.session, data.purchase)\n",
    "f1, missing_rate, prediction = oracle_predict(model, data.session, data.purchase)\n",
    "f1"
   ]
  },
  {
   "cell_type": "markdown",
   "id": "4f5118c5",
   "metadata": {},
   "source": [
    "## Hold Out\n",
    "\n",
    "1. Subset data for n-click (n=5, 10, 15) models.\n",
    "1. Do train/test split in for each subset."
   ]
  },
  {
   "cell_type": "code",
   "execution_count": 11,
   "id": "6ac49b82",
   "metadata": {},
   "outputs": [],
   "source": [
    "### get subset for training\n",
    "## make the prediction for 5, 10 and 15, and store the f1 it in a dict\n",
    "## First split the train/test data\n",
    "from sklearn.model_selection import train_test_split\n",
    "from collections import defaultdict\n",
    "\n",
    "data = defaultdict(lambda: defaultdict())\n",
    "\n",
    "for i in [5, 10, 15]:\n",
    "    \n",
    "    ## Subset from the original df\n",
    "    temp = df[[\"session\", \"purchase\"]]\n",
    "    temp.session = temp.session.map(lambda x: x[:x.index(3)+1+i] if len(x[x.index(3)+1:])>=i else None)\n",
    "    temp = temp.dropna()\n",
    "    \n",
    "    ## Split train and test\n",
    "    X_train, X_test, y_train, y_test = train_test_split(temp[\"session\"], temp[\"purchase\"], test_size=0.2, random_state=123)\n",
    "    data[f\"{i}_clicks\"][\"X_train\"] = X_train.to_numpy()\n",
    "    data[f\"{i}_clicks\"][\"X_test\"] = X_test.to_numpy()\n",
    "    data[f\"{i}_clicks\"][\"y_train\"] = y_train.to_numpy()\n",
    "    data[f\"{i}_clicks\"][\"y_test\"] = y_test.to_numpy()"
   ]
  },
  {
   "cell_type": "code",
   "execution_count": 31,
   "id": "a6773f8e",
   "metadata": {},
   "outputs": [
    {
     "data": {
      "text/html": [
       "<div>\n",
       "<style scoped>\n",
       "    .dataframe tbody tr th:only-of-type {\n",
       "        vertical-align: middle;\n",
       "    }\n",
       "\n",
       "    .dataframe tbody tr th {\n",
       "        vertical-align: top;\n",
       "    }\n",
       "\n",
       "    .dataframe thead th {\n",
       "        text-align: right;\n",
       "    }\n",
       "</style>\n",
       "<table border=\"1\" class=\"dataframe\">\n",
       "  <thead>\n",
       "    <tr style=\"text-align: right;\">\n",
       "      <th></th>\n",
       "      <th>5_clicks</th>\n",
       "      <th>10_clicks</th>\n",
       "      <th>15_clicks</th>\n",
       "    </tr>\n",
       "  </thead>\n",
       "  <tbody>\n",
       "    <tr>\n",
       "      <th>X_train</th>\n",
       "      <td>86213</td>\n",
       "      <td>60709</td>\n",
       "      <td>44216</td>\n",
       "    </tr>\n",
       "    <tr>\n",
       "      <th>X_test</th>\n",
       "      <td>21554</td>\n",
       "      <td>15178</td>\n",
       "      <td>11054</td>\n",
       "    </tr>\n",
       "    <tr>\n",
       "      <th>y_train</th>\n",
       "      <td>86213</td>\n",
       "      <td>60709</td>\n",
       "      <td>44216</td>\n",
       "    </tr>\n",
       "    <tr>\n",
       "      <th>y_test</th>\n",
       "      <td>21554</td>\n",
       "      <td>15178</td>\n",
       "      <td>11054</td>\n",
       "    </tr>\n",
       "  </tbody>\n",
       "</table>\n",
       "</div>"
      ],
      "text/plain": [
       "         5_clicks  10_clicks  15_clicks\n",
       "X_train     86213      60709      44216\n",
       "X_test      21554      15178      11054\n",
       "y_train     86213      60709      44216\n",
       "y_test      21554      15178      11054"
      ]
     },
     "execution_count": 31,
     "metadata": {},
     "output_type": "execute_result"
    }
   ],
   "source": [
    "data_size = pd.DataFrame(data).applymap(len)\n",
    "data_size"
   ]
  },
  {
   "cell_type": "markdown",
   "id": "8159eccd",
   "metadata": {},
   "source": [
    "## Naive Bayes Model"
   ]
  },
  {
   "cell_type": "code",
   "execution_count": 32,
   "id": "b2f8be3e",
   "metadata": {},
   "outputs": [],
   "source": [
    "import numpy as np\n",
    "\n",
    "def ngram_featurizer(session, n=3):\n",
    "    \n",
    "    \"\"\"takes in a list and an integer defining the size of ngrams.\n",
    "     Returns the ngrams of desired size in the input string\"\"\"\n",
    "    \n",
    "    session = ['#']*(n-1) + session + ['+']*(n-1)\n",
    "    ngrams = [tuple(session[i:i+n]) for i in range(len(session)-n+1)]\n",
    "    \n",
    "    return ngrams\n",
    "    \n",
    "\n",
    "def encode_sessions(sessions,n=3, mapping=None):\n",
    "    \n",
    "    \"\"\"\n",
    "    Takes in a list of lists, an integer indicating the character ngrams' size,\n",
    "    and a dictionary mapping ngrams to numerical indices. If no dictionary is passed,\n",
    "    one is created inside the function.\n",
    "    The function outputs a 2d NumPy array with as many rows as there are strings in \n",
    "    the input list, and the mapping from ngrams to indices, representing the columns \n",
    "    of the NumPy array.\n",
    "    \"\"\"\n",
    "    \n",
    "    if not mapping:\n",
    "        all_ngrams = set()\n",
    "        for session in sessions:\n",
    "            all_ngrams = all_ngrams.union(set(ngram_featurizer(session, n)))\n",
    "    \n",
    "        mapping = {ngram: i for i, ngram in enumerate(all_ngrams)}\n",
    "    \n",
    "    X = np.zeros((len(sessions), len(mapping)))\n",
    "    for i, session in enumerate(sessions):\n",
    "        for ngram in ngram_featurizer(session, n):\n",
    "            try:\n",
    "                X[i, mapping[ngram]] += 1\n",
    "            except KeyError:\n",
    "                pass\n",
    "    \n",
    "    return X, mapping"
   ]
  },
  {
   "cell_type": "code",
   "execution_count": 33,
   "id": "89e6a71a",
   "metadata": {
    "scrolled": true
   },
   "outputs": [],
   "source": [
    "from sklearn.naive_bayes import MultinomialNB\n",
    "from sklearn import metrics\n",
    "\n",
    "score = {}\n",
    "for i in [5,10,15]:\n",
    "    sessions_train = data[f\"{i}_clicks\"][\"X_train\"]\n",
    "    sessions_eval = data[f\"{i}_clicks\"][\"X_test\"]\n",
    "    labels_train = data[f\"{i}_clicks\"][\"y_train\"]\n",
    "    labels_eval = data[f\"{i}_clicks\"][\"y_test\"]\n",
    "\n",
    "    Xtrain, mapping = encode_sessions(sessions_train)\n",
    "    Xtest, _ = encode_sessions(sessions_eval, mapping=mapping)\n",
    "\n",
    "    NB = MultinomialNB(alpha=1, fit_prior=True)\n",
    "    NB.fit(Xtrain,labels_train)\n",
    "    bayes_predictions = NB.predict(Xtest)\n",
    "    \n",
    "    f1 = metrics.f1_score(labels_eval, bayes_predictions)\n",
    "    \n",
    "    score[f\"F1_{i}-clicks\"] = f1"
   ]
  },
  {
   "cell_type": "code",
   "execution_count": 34,
   "id": "d0e60380",
   "metadata": {},
   "outputs": [
    {
     "data": {
      "text/plain": [
       "{'F1_5-clicks': 0.34254807692307687,\n",
       " 'F1_10-clicks': 0.3847316704459562,\n",
       " 'F1_15-clicks': 0.3973732951675366}"
      ]
     },
     "execution_count": 34,
     "metadata": {},
     "output_type": "execute_result"
    }
   ],
   "source": [
    "score"
   ]
  },
  {
   "cell_type": "markdown",
   "id": "23477fde",
   "metadata": {},
   "source": [
    "## Markov Chain"
   ]
  },
  {
   "cell_type": "code",
   "execution_count": 79,
   "id": "7ab3e34d",
   "metadata": {},
   "outputs": [],
   "source": [
    "# train Markov Chain\n",
    "from collections import defaultdict\n",
    "\n",
    "def get_ngram(session, i, n):\n",
    "        \n",
    "        \"\"\"\n",
    "        Takes in a list, an index and the ngram size n, and returns the history and current \n",
    "        token of the appropriate size: the current token is the one at the provided index, while the \n",
    "        history consists of the n-1 previous tokens. If the ngram size is 1, only the current token is returned.\n",
    "        \"\"\"\n",
    "        \n",
    "        if n == 1:\n",
    "            return session[i]\n",
    "        else:\n",
    "            ngram = session[i-(n-1):i+1]\n",
    "            history = tuple(ngram[:-1])\n",
    "            target = ngram[-1]\n",
    "            return (history, target)\n",
    "        \n",
    "                    \n",
    "def update_counts(sessions, n):\n",
    "        \n",
    "    \"\"\"\n",
    "    Processes the input sessions given an ngram sizes and stores transition counts. \n",
    "    A dictionary of dictionary is created, where the first level key indicates the history, the second level \n",
    "    key indicates the current word, and the value indicates the history-current word co-occurrence count.\n",
    "    If the ngram size is 1, then a simple dictionary mapping unigram to frequency count is created\n",
    "    \"\"\"\n",
    "        \n",
    "    counts = defaultdict(dict)\n",
    "    for session in sessions:\n",
    "        session = ['#']*(n-1) + session + ['+']\n",
    "        for idx in range(n-1, len(session)):\n",
    "            ngram = get_ngram(session, idx, n)\n",
    "            if n == 1:\n",
    "                counts[ngram] += 1\n",
    "            else:\n",
    "                # it's faster to try to do something and catch an exception than to use an if statement to \n",
    "                # check whether a condition is met beforehand. The if is checked everytime, the exception \n",
    "                # is only catched the first time, after that everything runs smoothly\n",
    "                try:\n",
    "                    counts[ngram[0]][ngram[1]] += 1\n",
    "                except KeyError:\n",
    "                    counts[ngram[0]][ngram[1]] = 1\n",
    "        \n",
    "    # first loop through the sentences in the corpus, than loop through each word in a sentence\n",
    "    vocab = {event for session in sessions for event in session}\n",
    "        \n",
    "    return counts, vocab"
   ]
  },
  {
   "cell_type": "code",
   "execution_count": 78,
   "id": "341eae14",
   "metadata": {},
   "outputs": [],
   "source": [
    "def get_prior(labels):\n",
    "    \n",
    "    \"\"\"\n",
    "    Given a vector of binary labels (0 and 1), computes the probability of the positive class.\n",
    "    \"\"\"\n",
    "    \n",
    "    return np.mean(labels)\n",
    "\n",
    "def get_posterior(prior, likelihood_one, likelihood_zero):\n",
    "    \n",
    "    \"\"\"\n",
    "    Given the prior of the positive class and the likelihood of an input under the language models trained\n",
    "    on input from the positive and negative classes, returns the posterior probability of the positive class.\n",
    "    \"\"\"\n",
    "    \n",
    "    if 0 < likelihood_zero <= 1 and 0 < likelihood_one <= 1:\n",
    "        return (prior * likelihood_one) / ((prior * likelihood_one) + ((1 - prior) * likelihood_zero))\n",
    "    elif likelihood_zero <= 0 and likelihood_one <= 0:\n",
    "        prior = np.log(prior) if 0 < prior <= 1 else prior\n",
    "        normalize = np.logaddexp(prior + likelihood_one, 1 - prior + likelihood_zero)\n",
    "        return np.exp(prior + likelihood_one - normalize)\n",
    "    else:\n",
    "        raise ValueError(\"One or both likelihood terms are higher than 1!\")\n",
    "    \n",
    "\n",
    "def get_unigram_probability(ngram, counts, vocab_size, k=1):\n",
    "        \n",
    "    \"\"\"\n",
    "    When n==1, we get the unigram probability.\n",
    "    Means that we get the probability of an event based on its prior event.\n",
    "    In this function, we transfer the count into probability with smoothing constant of 1. \n",
    "    And do row normalization after.\n",
    "    \"\"\"\n",
    "        \n",
    "    tot = sum(list(counts.values())) + (vocab_size*k)\n",
    "        \n",
    "    try:\n",
    "        ngram_count = counts[ngram] + k\n",
    "    except KeyError:\n",
    "        ngram_count = k\n",
    "        \n",
    "    return ngram_count/tot\n",
    "\n",
    "def get_ngram_probability(history, target, counts, vocab_size, k=1):\n",
    "        \n",
    "    \"\"\"\n",
    "    When n>1, we get the ngram probability.\n",
    "    Means that we get the probability of an event based on its prior n-1 event.\n",
    "    In this function, we transfer the count into probability with smoothing constant of 1. \n",
    "    And do row normalization after.\n",
    "    \"\"\"\n",
    "        \n",
    "    try:\n",
    "        ngram_tot = np.sum(list(counts[history].values())) + (vocab_size*k)\n",
    "        try:\n",
    "            transition_count = counts[history][target] + k\n",
    "        except KeyError:\n",
    "            transition_count = k\n",
    "    except KeyError:\n",
    "        transition_count = k\n",
    "        ngram_tot = vocab_size*k\n",
    "            \n",
    "    return transition_count/ngram_tot \n",
    "\n",
    "def get_sequence_prob(session, counts, n, vocab_size, k=1):\n",
    "        \n",
    "    \"\"\"\n",
    "    Apply the Rule of Markov chain: \n",
    "    \n",
    "    MULTIPLY the conditional probabily of each event in the sequence given its history with (n-1) length. \n",
    "    \n",
    "    \"\"\"\n",
    "        \n",
    "    probs = []\n",
    "    for idx in range(n-1, len(session)):\n",
    "        ngram = get_ngram(session, idx, n)\n",
    "        if n == 1:\n",
    "            probs.append(get_unigram_probability(ngram, counts, vocab_size))\n",
    "        else:\n",
    "            probs.append(get_ngram_probability(ngram[0], ngram[1], counts, vocab_size))\n",
    "\n",
    "        return np.prod(probs)"
   ]
  },
  {
   "cell_type": "code",
   "execution_count": 77,
   "id": "e1b9de32",
   "metadata": {},
   "outputs": [],
   "source": [
    "def markov_train_predict(X_train, y_train, X_test, ngram = 3):\n",
    "    '''\n",
    "    1. take in the training data and split them into group of buy vs. non-buy;\n",
    "    2. get the counts table for both group.\n",
    "    3. Make prediction based on two count tables.\n",
    "    '''\n",
    "    \n",
    "    ## Split the training data into two category: buy vs non_buy\n",
    "    train_buy, train_ws = [], []\n",
    "    for session, label in zip(X_train, y_train):\n",
    "        if label == 1:\n",
    "            train_buy.append(session)\n",
    "        else:\n",
    "            train_ws.append(session)\n",
    "    \n",
    "    ## calculate the count table\n",
    "    buy_counts, buy_vocab = update_counts(train_buy, ngram)\n",
    "    ws_counts, ws_vocab = update_counts(train_ws, ngram)\n",
    "    \n",
    "    ## get prior from traning data\n",
    "    prior_buy = get_prior(y_train)\n",
    "    \n",
    "    ## Make prediction\n",
    "    markov_predictions = []\n",
    "    \n",
    "    for session in X_test:\n",
    "        likelihood_buy = get_sequence_prob(session, buy_counts, ngram, len(buy_vocab))\n",
    "        likelihood_ws = get_sequence_prob(session, ws_counts, ngram, len(ws_vocab))\n",
    "\n",
    "        markov_predictions.append(np.round(get_posterior(prior_buy, likelihood_buy, likelihood_ws)))\n",
    "        \n",
    "    return markov_predictions"
   ]
  },
  {
   "cell_type": "markdown",
   "id": "ac3e2a4a",
   "metadata": {},
   "source": [
    "### 5-clicks"
   ]
  },
  {
   "cell_type": "code",
   "execution_count": 72,
   "id": "39dbb46a",
   "metadata": {},
   "outputs": [],
   "source": [
    "i = '5_clicks'\n",
    "X_train = data[i]['X_train']\n",
    "y_train = data[i]['y_train']\n",
    "X_test = data[i]['X_test']\n",
    "y_test = data[i]['y_test']\n"
   ]
  },
  {
   "cell_type": "code",
   "execution_count": 80,
   "id": "e74686a8",
   "metadata": {},
   "outputs": [
    {
     "name": "stdout",
     "output_type": "stream",
     "text": [
      "For n=3: acc=0.7528996937923356, f1=0.0\n",
      "For n=4: acc=0.7528996937923356, f1=0.0\n",
      "For n=5: acc=0.7528069035909808, f1=0.000375234521575985\n",
      "For n=6: acc=0.7528532986916582, f1=0.00037530493525989863\n"
     ]
    }
   ],
   "source": [
    "for i in range(3,7):\n",
    "    y_pred = markov_train_predict(X_train, y_train, X_test, ngram = i)\n",
    "\n",
    "    # evaluate Markov Chain\n",
    "    acc = metrics.accuracy_score(y_test, y_pred)\n",
    "    f1 = metrics.f1_score(y_test, y_pred)\n",
    "    print(f\"For n={i}: acc={acc}, f1={f1}\")"
   ]
  },
  {
   "cell_type": "markdown",
   "id": "7730ec22",
   "metadata": {},
   "source": [
    "### 10-clicks"
   ]
  },
  {
   "cell_type": "code",
   "execution_count": 81,
   "id": "a93e8c08",
   "metadata": {},
   "outputs": [],
   "source": [
    "i = '10_clicks'\n",
    "X_train = data[i]['X_train']\n",
    "y_train = data[i]['y_train']\n",
    "X_test = data[i]['X_test']\n",
    "y_test = data[i]['y_test']"
   ]
  },
  {
   "cell_type": "code",
   "execution_count": 83,
   "id": "10f5c18e",
   "metadata": {},
   "outputs": [
    {
     "name": "stdout",
     "output_type": "stream",
     "text": [
      "For n=4: acc=0.741929107919357, f1=0.0\n",
      "For n=5: acc=0.7419949927526683, f1=0.0005104645227156713\n",
      "For n=6: acc=0.741929107919357, f1=0.0\n",
      "For n=7: acc=0.7414679140861774, f1=0.0\n",
      "For n=8: acc=0.741929107919357, f1=0.0015294417537598777\n",
      "For n=9: acc=0.7415996837528, f1=0.0030503304524656842\n",
      "For n=10: acc=0.740677296086441, f1=0.005055611729019211\n"
     ]
    }
   ],
   "source": [
    "for i in range(4,11):\n",
    "    y_pred = markov_train_predict(X_train, y_train, X_test, ngram = i)\n",
    "\n",
    "    # evaluate Markov Chain\n",
    "    acc = metrics.accuracy_score(y_test, y_pred)\n",
    "    f1 = metrics.f1_score(y_test, y_pred)\n",
    "    print(f\"For n={i}: acc={acc}, f1={f1}\")"
   ]
  },
  {
   "cell_type": "markdown",
   "id": "670304d1",
   "metadata": {},
   "source": [
    "## 15-clicks"
   ]
  },
  {
   "cell_type": "code",
   "execution_count": 84,
   "id": "81758492",
   "metadata": {},
   "outputs": [],
   "source": [
    "i = '10_clicks'\n",
    "X_train = data[i]['X_train']\n",
    "y_train = data[i]['y_train']\n",
    "X_test = data[i]['X_test']\n",
    "y_test = data[i]['y_test']"
   ]
  },
  {
   "cell_type": "code",
   "execution_count": 86,
   "id": "ed26c420",
   "metadata": {},
   "outputs": [
    {
     "name": "stdout",
     "output_type": "stream",
     "text": [
      "For n=4: acc=0.741929107919357, f1=0.0\n",
      "For n=5: acc=0.7419949927526683, f1=0.0005104645227156713\n",
      "For n=6: acc=0.741929107919357, f1=0.0\n",
      "For n=7: acc=0.7414679140861774, f1=0.0\n",
      "For n=8: acc=0.741929107919357, f1=0.0015294417537598777\n",
      "For n=9: acc=0.7415996837528, f1=0.0030503304524656842\n",
      "For n=10: acc=0.740677296086441, f1=0.005055611729019211\n",
      "For n=11: acc=0.7402819870865727, f1=0.009547738693467336\n"
     ]
    }
   ],
   "source": [
    "for i in range(4,12):\n",
    "    y_pred = markov_train_predict(X_train, y_train, X_test, ngram = i)\n",
    "\n",
    "    # evaluate Markov Chain\n",
    "    acc = metrics.accuracy_score(y_test, y_pred)\n",
    "    f1 = metrics.f1_score(y_test, y_pred)\n",
    "    print(f\"For n={i}: acc={acc}, f1={f1}\")"
   ]
  }
 ],
 "metadata": {
  "kernelspec": {
   "display_name": "Python 3 (ipykernel)",
   "language": "python",
   "name": "python3"
  },
  "language_info": {
   "codemirror_mode": {
    "name": "ipython",
    "version": 3
   },
   "file_extension": ".py",
   "mimetype": "text/x-python",
   "name": "python",
   "nbconvert_exporter": "python",
   "pygments_lexer": "ipython3",
   "version": "3.8.12"
  },
  "toc": {
   "base_numbering": 1,
   "nav_menu": {},
   "number_sections": true,
   "sideBar": true,
   "skip_h1_title": true,
   "title_cell": "Table of Contents",
   "title_sidebar": "Contents",
   "toc_cell": false,
   "toc_position": {},
   "toc_section_display": true,
   "toc_window_display": true
  }
 },
 "nbformat": 4,
 "nbformat_minor": 5
}
