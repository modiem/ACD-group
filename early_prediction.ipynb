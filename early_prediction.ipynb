{
 "cells": [
  {
   "cell_type": "markdown",
   "id": "1f76d51b",
   "metadata": {},
   "source": [
    "# Early prediciton of cart abandonement"
   ]
  },
  {
   "cell_type": "markdown",
   "id": "02f8e3e0",
   "metadata": {},
   "source": [
    "## To kick Start\n",
    "This secion consits following jobs:\n",
    "- Install dependencies\n",
    "- Import packages\n",
    "- Load the data"
   ]
  },
  {
   "cell_type": "markdown",
   "id": "e1bb4dff",
   "metadata": {},
   "source": [
    "## Pre-processing\n",
    "1. pre-process the sessions (you can execute these tasks in the order you prefer, but make sure to specify which task is being solved in which block of code):\n",
    "    1. sessionise <font color='red'>(1pt)</font>\n",
    "    2. select sessions with at least one add-to-cart <font color='red'>(1pt)</font>\n",
    "    3. add class labels: treat purchase as the positive class <font color='red'>(1pt)</font>\n",
    "    4. cut purchase sessions to the last event before the first purchase <font color='red'>(1pt)</font>\n",
    "    5. remove sessions shorter than 5 and longer than 155 clicks <font color='red'>(1pt)</font>\n",
    "    6. symbolise actions <font color='red'>(1pt)</font>"
   ]
  },
  {
   "cell_type": "markdown",
   "id": "636b662f",
   "metadata": {},
   "source": [
    "## Oracle Model \n",
    "2. implement an oracle model to get the upper bound on performance and compute the oracle's f1 at \n",
    "    1. 5 clicks post add-to-cart <font color='red'>(1 pt for correct f1 at 5 clicks) </font>\n",
    "    2. 10 clicks post add-to-cart <font color='red'>(1 pt for correct f1 at 10 clicks) </font>\n",
    "    3. 15 clicks post add-to-cart <font color='red'>(1 pt for correct f1 at 15 clicks) </font>"
   ]
  },
  {
   "cell_type": "markdown",
   "id": "08cbd64b",
   "metadata": {},
   "source": [
    "## Baseline Model\n",
    "3. implement the baseline model defined above (Naïve Bayes, order 3) and obtain the f1 score on the dev set at:\n",
    "    1. 5 clicks post add-to-cart <font color='red'>(2pts for correct f1 at 5 clicks)</font>\n",
    "    2. 10 clicks post add-to-cart <font color='red'>(2pts for correct f1 at 10 clicks)</font>\n",
    "    3. 15 clicks post add-to-cart <font color='red'>(2pts for correct f1 at 15 clicks)</font>"
   ]
  },
  {
   "cell_type": "markdown",
   "id": "48d51593",
   "metadata": {},
   "source": [
    "## Another Model\n",
    "4. implement another model of your choice (an SVM, a Markov Chain, a neural network, an anomaly detection algorithm if you feel more adventurous, or something else) and obtain the f1 score on the dev set at:\n",
    "    1. 5 clicks post add-to-cart\n",
    "    2. 10 clicks post add-to-cart\n",
    "    3. 15 clicks post add-to-cart"
   ]
  },
  {
   "cell_type": "markdown",
   "id": "4f2ea5fe",
   "metadata": {},
   "source": [
    "## Error Analysis"
   ]
  }
 ],
 "metadata": {
  "kernelspec": {
   "display_name": "Python 3 (ipykernel)",
   "language": "python",
   "name": "python3"
  },
  "language_info": {
   "codemirror_mode": {
    "name": "ipython",
    "version": 3
   },
   "file_extension": ".py",
   "mimetype": "text/x-python",
   "name": "python",
   "nbconvert_exporter": "python",
   "pygments_lexer": "ipython3",
   "version": "3.8.12"
  },
  "toc": {
   "base_numbering": 1,
   "nav_menu": {},
   "number_sections": true,
   "sideBar": true,
   "skip_h1_title": true,
   "title_cell": "Table of Contents",
   "title_sidebar": "Contents",
   "toc_cell": false,
   "toc_position": {},
   "toc_section_display": true,
   "toc_window_display": true
  }
 },
 "nbformat": 4,
 "nbformat_minor": 5
}
